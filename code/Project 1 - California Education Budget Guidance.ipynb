{
 "cells": [
  {
   "cell_type": "markdown",
   "metadata": {},
   "source": [
    "<img src=\"http://imgur.com/1ZcRyrc.png\" style=\"float: left; margin: 20px; height: 55px\">\n",
    "\n",
    "# Project 1: California Education Budget Guidance"
   ]
  },
  {
   "cell_type": "markdown",
   "metadata": {},
   "source": [
    "--- \n",
    "# Part 1\n",
    "\n",
    "\n",
    "---"
   ]
  },
  {
   "cell_type": "markdown",
   "metadata": {},
   "source": [
    "## Problem Statement"
   ]
  },
  {
   "cell_type": "markdown",
   "metadata": {},
   "source": [
    "The state of California is responsible for allocating 58% of the $97.2 billion dollars of 2018-19 funding for California's public schools ([source](https://www.ppic.org/publication/financing-californias-public-schools/)). This project aims to provide guidance for the State of California's Education Budget and make recomendations on the best way to track student success. California performs worse than the nation in the SAT and wants to improve student performance. This study examines local determinates of students who do not meet benchmark scores on standardized academic assessments. The state wants to examine the nationally administered ACT and SAT in addition to the state administered CAASSP (California Assessment of Student Performance). As colleges trend away from using the ACT/SAT ([source](https://www.washingtonpost.com/education/2019/10/18/record-number-colleges-drop-satact-admissions-requirement-amid-growing-disenchantment-with-standardized-tests/)) California wants to make sure that they have viable ways to measure student outcomes. The goal is to optimize the effectiveness of each dollar of education spending by the state."
   ]
  },
  {
   "cell_type": "markdown",
   "metadata": {},
   "source": [
    "### Contents:\n",
    "- [Overview](#Overview)\n",
    "- [Data Import & Cleaning](#Data-Import-and-Cleaning)\n",
    "- [Data Dictionary](#Data-Dictionary)\n",
    "- [Exploratory Data Analysis and Visualization](#Exploratory-Data-Analysis-and-Visualization)\n",
    "- [Conclusions and Recommendations](#Conclusions-and-Recommendations)"
   ]
  },
  {
   "cell_type": "markdown",
   "metadata": {},
   "source": [
    "## Overview"
   ]
  },
  {
   "cell_type": "markdown",
   "metadata": {},
   "source": [
    "In pursuit of this goal, the state wants help identifying barriers for students to be academically prepared for higher education. The scope of this analysis is to examine the spacial distribution of college readiness in the counties of California, provide a summary of possible causes for poor performance and make suggestions for improvement. \n",
    "\n",
    "I begin by comparing our ACT/SAT test results to the nation. Here we find that the state of California is doing a mixed job compared to the national average in preparing our students for college entrance exams.  \n",
    "\n",
    "|Description|Scope|Average|Standard Deviation|Summary|\n",
    "|---|---|---|---|---|\n",
    "|ACT|USA|21.5|2.1|95% of students score between 19.4 and 23.5|\n",
    "|SAT|USA|1120|90|95% of students score between 1030 and 1210|\n",
    "|ACT|CA|22.6|+0.5 deviations from national mean|score is 1.1 points higher than national average|\n",
    "|SAT|CA|1065|-0.5 deviations from national mean|score is 45 points lower than national average|\n",
    "\n",
    "For the ACT our students, on average, score half a standard deviation above the mean. For the SAT, our students score one standard deviation below the mean. In addition, there is a mix of preference in picking the ACT or SAT across districts and schools in California.  \n",
    "\n",
    "|Rates of CA Participation|\n",
    "|---|\n",
    "\n",
    "|Year|ACT|SAT|\n",
    "|---|---|---|\n",
    "|2017|31%|53%|\n",
    "|2018|27%|60%|\n",
    "|2019|23%|63%|\n",
    "\n",
    "Unfortunately, the college readiness test that most students take is the one that we are weaker in compared to the nation. This is an area that needs to be improved upon. Given the provided California SAT/ACT data sets there is no way to tell if a student took both the ACT and SAT, only the rates at which a student is taking either test. In order to avoid counting a student who took both the ACT and SAT I filtered the data set to include only the scores for the test that was most taken in each county and district. What I am measuring is the percentage of students in a county or district that met benchmark scores in either test. This project makes the assumption that the ACT and SAT are close enough to equally weighted in predicting college academic readiness to use interchangably. The measure is whether or not a benchmark score was met in either test, not which test was taken. A benchmark score is a score that when met or exceeded is deemed acceptable for college readiness. Here are the benchmark scores for the ACT/SAT and California's CAASSP.  \n",
    "\n",
    "\n",
    "|Test|Benchmark Score|---|\n",
    "|---|---|---|\n",
    "|ACT|21 or higher|[source](https://www.cde.ca.gov/ds/sp/ai/reclayoutact19.asp)|\n",
    "|SAT|1020 or higher|[source](https://www.cde.ca.gov/ds/sp/ai/glossarysat2019.asp)|\n",
    "|CAASSP|State Determined|---|\n",
    "\n",
    "The ACT measures a students performance in the following subjects: english, mathematics, reading and science ([source](http://www.act.org/content/act/en/products-and-services/the-act-educator/the-act-test.html#order-reg-materials)). The SAT test is split into two sections, Math and Evidence-based Reading and Writing ([source](https://www.princetonreview.com/college/sat-information)) These tests are used by college admission departments in determining acceptance and financial aid for a student at their respective school. \n",
    "\n",
    "In addition to the nationally administered ACT and SAT I look at the state administered California Assessment of Student Performance and Progression ([CAASSP](https://www.caaspp.org/faqs/all-faqs.html)) test. Similar to the ACT/SAT the CAASSP measures a students performance in the academic catagories of english, math and science. Since CAASSP scores are administered for grades 4-8 and 11th grade they could be useful as an early indicator of a students track towards college prepardness since it is administered more frequently and at younger ages ([source](https://www.cde.ca.gov/ta/tg/ca/caasppkeypts.asp#:~:text=Because%20CAASPP%20tests%20are%20given,to%20improve%20teaching%20and%20learning)). This is an area for additional research.\n",
    "\n",
    "The CAASSP scores for 11th grade students and ACT/SAT scores for 12th grade students follow similar geographic distributions throughout the state suggesting that there are specific local factors that influence test scores:\n",
    "\n",
    "\n",
    "\n",
    "\n",
    "![](../data/cali_map.png)\n",
    "\n",
    "\n",
    "\n",
    "\n",
    "This study examined the distribution of median household income and poverty rate under 18 throughout the state and found that these measures of income inequality trend with standardized academic test results.\n",
    "\n",
    "\n",
    "![](../Data/youthpoverty_actsat_scatter.png)\n"
   ]
  },
  {
   "cell_type": "markdown",
   "metadata": {},
   "source": [
    "### Data Sets used\n",
    "| Data File Name | Link to Data Source |Description| Scope|\n",
    "|---|---|---|---|\n",
    "| sat_2019_ca.csv | [source](https://www.cde.ca.gov/ds/sp/ai/glossaryact2019.asp) | For SAT benchmark scores by county | California|\n",
    "act_2019_ca.csv |[source](https://www.cde.ca.gov/ds/sp/ai/glossarysat2019.asp) | For ACT benchmark scores by county| California|\n",
    "act_2017.csv |[source](https://blog.prepscholar.com/act-scores-by-state-averages-highs-and-lows)| Average ACT Scores by State, 2017| USA|\n",
    "act_2018.csv |[source](https://blog.prepscholar.com/act-scores-by-state-averages-highs-and-lows) | Average ACT Scores by State, 2018| USA|\n",
    "act_2019.csv |[source](https://www.cde.ca.gov/ds/sp/ai/) | Average ACT Scores by State, 2019| USA|\n",
    "sat_2017.csv |[source](https://blog.collegevine.com/here-are-the-average-sat-scores-by-state/) | Average SAT Scores by State, 2017| USA|\n",
    "sat_2018.csv |[source](https://blog.collegevine.com/here-are-the-average-sat-scores-by-state/) | Average SAT Scores by State, 2018| USA|\n",
    "sat_2019.csv |[source](https://www.cde.ca.gov/ds/sp/ai/) | Average SAT Scores by State, 2019| USA|\n",
    "caassp00.txt through caassp07.txt |[source](https://caaspp-elpac.cde.ca.gov/caaspp/ResearchFileList?ps=true&lstTestYear=2019&lstTestType=B&lstGroup=1&lstGrade=13&lstSchoolType=A&lstCounty=01&lstDistrict=00000&lstSchool=0000000#dl) | CAASSP Results for all students 2018/2019| California|\n",
    "|sb_ca2019entities_csv.txt|[source](https://caaspp-elpac.cde.ca.gov/caaspp/ResearchFileList?ps=true&lstTestYear=2019&lstTestType=B&lstGroup=1&lstGrade=13&lstSchoolType=A&lstCounty=01&lstDistrict=00000&lstSchool=0000000#dl)|Data Dictionary for CAASSP Resutls for all students|California|\n",
    "|all-geocodes-v2016.xlsx|[source](https://www.census.gov/geographies/reference-files/2016/demo/popest/2016-fips.html)|2016 FIPS Codes from the Census|USA|\n",
    "|development.csv|[source](https://www.labormarketinfo.edd.ca.gov/Population_and_Census.html)|Employment Development Dept. Population and Census data|California|\n"
   ]
  },
  {
   "cell_type": "markdown",
   "metadata": {},
   "source": [
    "### Outside Research"
   ]
  },
  {
   "cell_type": "markdown",
   "metadata": {},
   "source": [
    "All outside sources linked when referenced."
   ]
  },
  {
   "cell_type": "markdown",
   "metadata": {},
   "source": [
    "### Library's used in project:"
   ]
  },
  {
   "cell_type": "code",
   "execution_count": 1,
   "metadata": {},
   "outputs": [
    {
     "ename": "ModuleNotFoundError",
     "evalue": "No module named 'plotly'",
     "output_type": "error",
     "traceback": [
      "\u001b[1;31m---------------------------------------------------------------------------\u001b[0m",
      "\u001b[1;31mModuleNotFoundError\u001b[0m                       Traceback (most recent call last)",
      "\u001b[1;32m<ipython-input-1-8d84e89db47c>\u001b[0m in \u001b[0;36m<module>\u001b[1;34m\u001b[0m\n\u001b[0;32m      4\u001b[0m \u001b[1;32mimport\u001b[0m \u001b[0mmatplotlib\u001b[0m\u001b[1;33m.\u001b[0m\u001b[0mpyplot\u001b[0m \u001b[1;32mas\u001b[0m \u001b[0mplt\u001b[0m\u001b[1;33m\u001b[0m\u001b[1;33m\u001b[0m\u001b[0m\n\u001b[0;32m      5\u001b[0m \u001b[1;32mimport\u001b[0m \u001b[0mseaborn\u001b[0m \u001b[1;32mas\u001b[0m \u001b[0msns\u001b[0m\u001b[1;33m\u001b[0m\u001b[1;33m\u001b[0m\u001b[0m\n\u001b[1;32m----> 6\u001b[1;33m \u001b[1;32mimport\u001b[0m \u001b[0mplotly\u001b[0m\u001b[1;33m.\u001b[0m\u001b[0mfigure_factory\u001b[0m \u001b[1;32mas\u001b[0m \u001b[0mff\u001b[0m\u001b[1;33m\u001b[0m\u001b[1;33m\u001b[0m\u001b[0m\n\u001b[0m\u001b[0;32m      7\u001b[0m \u001b[1;32mimport\u001b[0m \u001b[0mplotly\u001b[0m\u001b[1;33m.\u001b[0m\u001b[0mexpress\u001b[0m \u001b[1;32mas\u001b[0m \u001b[0mpx\u001b[0m\u001b[1;33m\u001b[0m\u001b[1;33m\u001b[0m\u001b[0m\n",
      "\u001b[1;31mModuleNotFoundError\u001b[0m: No module named 'plotly'"
     ]
    }
   ],
   "source": [
    "# Imports:\n",
    "import pandas as pd\n",
    "import numpy as np\n",
    "import matplotlib.pyplot as plt\n",
    "import seaborn as sns\n",
    "import plotly.figure_factory as ff\n",
    "import plotly.express as px"
   ]
  },
  {
   "cell_type": "markdown",
   "metadata": {},
   "source": [
    "#### Helper Functions"
   ]
  },
  {
   "cell_type": "code",
   "execution_count": null,
   "metadata": {},
   "outputs": [],
   "source": [
    "# Average: \n",
    "\n",
    "n = list(range(1,11))\n",
    "\n",
    "def average(n):\n",
    "    avg = sum(n)/len(n)\n",
    "    return avg\n",
    "        \n",
    "average(n)"
   ]
  },
  {
   "cell_type": "code",
   "execution_count": null,
   "metadata": {},
   "outputs": [],
   "source": [
    "# Standard Deviation:\n",
    "\n",
    "stdev_num = list(range(1,11))\n",
    "\n",
    "def stdev(stdev_num):\n",
    "    variance =  [(x - average(stdev_num)) ** 2 for x in stdev_num]\n",
    "    return average(variance)**.5\n",
    "stdev(stdev_num)"
   ]
  },
  {
   "cell_type": "code",
   "execution_count": null,
   "metadata": {},
   "outputs": [],
   "source": [
    "num_str = [ '50%', '30.5%']"
   ]
  },
  {
   "cell_type": "code",
   "execution_count": null,
   "metadata": {},
   "outputs": [],
   "source": [
    "# Data cleaning function for changing number+percent symbol to a float:\n",
    "def percent_to_float(num_str):\n",
    "    cleaned = []\n",
    "    for i in num_str:\n",
    "        if i != np.nan:\n",
    "            cleaned.append(i.replace('%',\"\"))\n",
    "        else: pass\n",
    "    floats = []\n",
    "    for x in cleaned:\n",
    "        floats.append(float(x))\n",
    "    float_percent = []\n",
    "    for x in floats:\n",
    "        float_percent.append(x*.01)\n",
    "    \n",
    "    return float_percent       \n",
    "\n",
    "percent_to_float(num_str)"
   ]
  },
  {
   "cell_type": "markdown",
   "metadata": {},
   "source": [
    "--- \n",
    "# Part 2\n",
    "\n",
    "---"
   ]
  },
  {
   "cell_type": "markdown",
   "metadata": {},
   "source": [
    "## Data Import and Cleaning"
   ]
  },
  {
   "cell_type": "markdown",
   "metadata": {},
   "source": [
    "### Import Data Sets"
   ]
  },
  {
   "cell_type": "code",
   "execution_count": null,
   "metadata": {
    "scrolled": true
   },
   "outputs": [],
   "source": [
    "#California ACT/SAT data\n",
    "sat_2019_ca = pd.read_csv('../data/sat_2019_ca.csv')\n",
    "act_2019_ca = pd.read_csv('../data/act_2019_ca.csv')\n",
    "\n",
    "#ACT National Data\n",
    "act_2017 = pd.read_csv('../data/act_2017.csv')\n",
    "act_2018 = pd.read_csv('../data/act_2018.csv')\n",
    "act_2019 = pd.read_csv('../data/act_2019.csv')\n",
    "\n",
    "#SAT National Data\n",
    "sat_2017 = pd.read_csv('../data/sat_2017.csv')\n",
    "sat_2018 = pd.read_csv('../data/sat_2018.csv')\n",
    "sat_2019 = pd.read_csv('../data/sat_2019.csv')\n",
    "\n",
    "# the originalsb_ca2019_all_csv_v4 file is too large to be put into git-enterprise so I used git bash to split the file into smaller file sizes\n",
    "# split --lines=500000 --numeric-suffixes --suffix-length=2 sb_ca2019_all_csv_v4.txt caassp\n",
    "#source on how to split files via git bash: https://stackoverflow.com/questions/22751000/split-large-text-filearound-50gb-into-multiple-files\n",
    "\n",
    "#CAASSP Column Names \n",
    "column_names = ['county_code', 'district_code', 'school_code', 'filler', 'test_year',\n",
    "       'subgroup_id', 'test_type', 'total_tested_at_entity_level',\n",
    "       'total_tested_with_scores', 'grade', 'test_id',\n",
    "       'caassp_reported_enrollment', 'students_tested', 'mean_scale_score',\n",
    "       'percentage_standard_exceeded', 'percentage_standard_met',\n",
    "       'percentage_standard_met_and_above', 'percentage_standard_nearly_met',\n",
    "       'percentage_standard_not_met', 'students_with_scores',\n",
    "       'area_1_percentage_above_standard', 'area_1_percentage_near_standard',\n",
    "       'area_1_percentage_below_standard', 'area_2_percentage_above_standard',\n",
    "       'area_2_percentage_near_standard', 'area_2_percentage_below_standard',\n",
    "       'area_3_percentage_above_standard', 'area_3_percentage_near_standard',\n",
    "       'area_3_percentage_below_standard', 'area_4_percentage_above_standard',\n",
    "       'area_4_percentage_near_standard', 'area_4_percentage_below_standard']\n",
    "\n",
    "#CAASSP Test Data\n",
    "caassp00 = pd.read_csv('../data/caassp00.txt', names = column_names)\n",
    "caassp01 = pd.read_csv('../data/caassp01.txt', names = column_names)\n",
    "caassp02 = pd.read_csv('../data/caassp02.txt', names = column_names)\n",
    "caassp03 = pd.read_csv('../data/caassp03.txt', names = column_names)\n",
    "caassp04 = pd.read_csv('../data/caassp04.txt', names = column_names)\n",
    "caassp05 = pd.read_csv('../data/caassp05.txt', names = column_names)\n",
    "caassp06 = pd.read_csv('../data/caassp06.txt', names = column_names)\n",
    "caassp07 = pd.read_csv('../data/caassp07.txt', names = column_names)\n",
    "caassp00 = caassp00[1:]\n",
    "caassp_info = pd.read_csv('../data/sb_ca2019entities_csv.txt', encoding='latin-1')\n",
    "\n",
    "#Census GEOCODE data for mapping\n",
    "geocodes = pd.read_excel('../data/all-geocodes-v2016.xlsx')\n",
    "\n",
    "development = pd.read_csv('../data/development.csv')"
   ]
  },
  {
   "cell_type": "markdown",
   "metadata": {},
   "source": [
    "## Clean and combine ACT National Data "
   ]
  },
  {
   "cell_type": "code",
   "execution_count": null,
   "metadata": {
    "scrolled": true
   },
   "outputs": [],
   "source": [
    "#look at shape\n",
    "print(act_2017.shape)\n",
    "print(act_2018.shape)\n",
    "print(act_2019.shape)\n",
    "\n",
    "#look at all data\n",
    "print(act_2017.head())\n",
    "print(act_2018.head())\n",
    "print(act_2019.head())\n",
    "\n",
    "#check for nulls\n",
    "print(act_2017.isnull().sum())\n",
    "print(act_2018.isnull().sum())\n",
    "print(act_2019.isnull().sum())"
   ]
  },
  {
   "cell_type": "code",
   "execution_count": null,
   "metadata": {},
   "outputs": [],
   "source": [
    "#drop unwanted columns\n",
    "act_2017.drop(columns= ['English','Math','Science','Reading'], inplace=True) "
   ]
  },
  {
   "cell_type": "code",
   "execution_count": null,
   "metadata": {},
   "outputs": [],
   "source": [
    "#add column for year\n",
    "act_2017['Year'] = '2017'\n",
    "act_2018['Year'] = '2018'\n",
    "act_2019['Year'] = '2019'"
   ]
  },
  {
   "cell_type": "code",
   "execution_count": null,
   "metadata": {},
   "outputs": [],
   "source": [
    "#concate ACT together\n",
    "combined_act = pd.concat([act_2017,act_2018,act_2019])\n",
    "combined_act.head()"
   ]
  },
  {
   "cell_type": "code",
   "execution_count": null,
   "metadata": {},
   "outputs": [],
   "source": [
    "combined_act.dtypes"
   ]
  },
  {
   "cell_type": "code",
   "execution_count": null,
   "metadata": {},
   "outputs": [],
   "source": [
    "#get Composite score to type float\n",
    "combined_act.Composite = combined_act.Composite.map(lambda Composite: float(20.2) if Composite == '20.2x' else float(Composite))\n",
    "#combined_act['Composite'] = combined_act['Composite'].astype(float) "
   ]
  },
  {
   "cell_type": "code",
   "execution_count": null,
   "metadata": {},
   "outputs": [],
   "source": [
    "#get same capitalization for 'District of Columbia'\n",
    "combined_act.State = combined_act.State.map(lambda State: str('District of Columbia') if State == 'District of columbia' else str(State))"
   ]
  },
  {
   "cell_type": "code",
   "execution_count": null,
   "metadata": {},
   "outputs": [],
   "source": [
    "#convert Participation to float using percent_to_float function so that it can be aggregated\n",
    "combined_act.Participation = percent_to_float(combined_act.Participation)"
   ]
  },
  {
   "cell_type": "code",
   "execution_count": null,
   "metadata": {
    "scrolled": true
   },
   "outputs": [],
   "source": [
    "combined_act.dtypes"
   ]
  },
  {
   "cell_type": "code",
   "execution_count": null,
   "metadata": {
    "scrolled": true
   },
   "outputs": [],
   "source": [
    "combined_act.shape"
   ]
  },
  {
   "cell_type": "markdown",
   "metadata": {},
   "source": [
    "## Clean and combine SAT National data "
   ]
  },
  {
   "cell_type": "code",
   "execution_count": null,
   "metadata": {},
   "outputs": [],
   "source": [
    "#shape of SAT data\n",
    "print(sat_2017.shape)\n",
    "print(sat_2018.shape)\n",
    "print(sat_2019.shape)\n",
    "\n",
    "#visual check of SAT data\n",
    "print(sat_2017.head())\n",
    "print(sat_2018.head())\n",
    "print(sat_2019.head())\n",
    "\n",
    "#check for nulls\n",
    "print(sat_2017.isnull().sum())\n",
    "print(sat_2018.isnull().sum())\n",
    "print(sat_2019.isnull().sum())"
   ]
  },
  {
   "cell_type": "code",
   "execution_count": null,
   "metadata": {},
   "outputs": [],
   "source": [
    "sat_2019.columns"
   ]
  },
  {
   "cell_type": "code",
   "execution_count": null,
   "metadata": {},
   "outputs": [],
   "source": [
    "#Rename columns so that they match\n",
    "# Dictionary Method\n",
    "new_columns_dict = {\n",
    "    'Evidence-Based Reading and Writing': 'ebrw',\n",
    "    'Participation Rate': 'Participation'\n",
    "    \n",
    "}\n",
    "\n",
    "sat_2019.rename(columns=new_columns_dict, inplace=True)"
   ]
  },
  {
   "cell_type": "code",
   "execution_count": null,
   "metadata": {},
   "outputs": [],
   "source": [
    "#add column for year\n",
    "sat_2017['Year'] = '2017'\n",
    "sat_2018['Year'] = '2018'\n",
    "sat_2019['Year'] = '2019'"
   ]
  },
  {
   "cell_type": "code",
   "execution_count": null,
   "metadata": {},
   "outputs": [],
   "source": [
    "#concate SAT together\n",
    "combined_sat = pd.concat([sat_2017,sat_2018,sat_2019])\n",
    "combined_sat.head()"
   ]
  },
  {
   "cell_type": "code",
   "execution_count": null,
   "metadata": {},
   "outputs": [],
   "source": [
    "combined_sat.dtypes"
   ]
  },
  {
   "cell_type": "code",
   "execution_count": null,
   "metadata": {},
   "outputs": [],
   "source": [
    "combined_sat.isnull().sum()"
   ]
  },
  {
   "cell_type": "code",
   "execution_count": null,
   "metadata": {},
   "outputs": [],
   "source": [
    "combined_sat.shape"
   ]
  },
  {
   "cell_type": "code",
   "execution_count": null,
   "metadata": {},
   "outputs": [],
   "source": [
    "combined_sat.drop(columns= ['EBRW','Evidence-Based Reading and Writing','Math'],inplace = True)"
   ]
  },
  {
   "cell_type": "code",
   "execution_count": null,
   "metadata": {},
   "outputs": [],
   "source": [
    "combined_sat.head()"
   ]
  },
  {
   "cell_type": "markdown",
   "metadata": {},
   "source": [
    "## Merge National ACT/SAT data "
   ]
  },
  {
   "cell_type": "code",
   "execution_count": null,
   "metadata": {},
   "outputs": [],
   "source": [
    "act_sat = pd.merge(combined_sat, combined_act, on=['State', 'Year'], how='inner')\n",
    "act_sat.head()"
   ]
  },
  {
   "cell_type": "markdown",
   "metadata": {},
   "source": [
    "### Rename columns to all lower/snake case, and drop uneeded columns "
   ]
  },
  {
   "cell_type": "code",
   "execution_count": null,
   "metadata": {},
   "outputs": [],
   "source": [
    "new_columns_dict = {\n",
    "    'Participation_x': 'participation_sat',\n",
    "    'Participation_y': 'participation_act',\n",
    "    'Total': 'total_sat_score',\n",
    "    'Composite': 'total_act_score',\n",
    "    'Year': 'year',\n",
    "    'State': 'state',\n",
    "    \n",
    "}\n",
    "\n",
    "act_sat.rename(columns=new_columns_dict, inplace=True)"
   ]
  },
  {
   "cell_type": "code",
   "execution_count": null,
   "metadata": {},
   "outputs": [],
   "source": [
    "act_sat.head() #check to see column names changed"
   ]
  },
  {
   "cell_type": "code",
   "execution_count": null,
   "metadata": {
    "scrolled": true
   },
   "outputs": [],
   "source": [
    "act_sat.dtypes #check data types again"
   ]
  },
  {
   "cell_type": "markdown",
   "metadata": {},
   "source": [
    "### Save combined and cleaned National ACT/SAT file "
   ]
  },
  {
   "cell_type": "code",
   "execution_count": null,
   "metadata": {},
   "outputs": [],
   "source": []
  },
  {
   "cell_type": "code",
   "execution_count": null,
   "metadata": {},
   "outputs": [],
   "source": [
    "#ablsoulte path instead of relative. This "
   ]
  },
  {
   "cell_type": "code",
   "execution_count": null,
   "metadata": {},
   "outputs": [],
   "source": [
    "act_sat.to_csv('../data/act_sat.csv', index=False)"
   ]
  },
  {
   "cell_type": "markdown",
   "metadata": {},
   "source": [
    "## California ACT/SAT data"
   ]
  },
  {
   "cell_type": "code",
   "execution_count": null,
   "metadata": {},
   "outputs": [],
   "source": [
    "#MAKE DICT TO RENAME COLUMNS\n",
    "\n",
    "def df_columns_plus_text_to_list(dataframename, text):\n",
    "    textappend = []\n",
    "    for i in list(dataframename.columns):\n",
    "        textappend.append(text + i)\n",
    "    return textappend\n",
    "\n",
    "#source:\n",
    "#https://www.geeksforgeeks.org/python-convert-two-lists-into-a-dictionary/  \n",
    "# to convert lists to dictionary \n",
    "\n",
    "def two_lists_into_dict(key, value):\n",
    "    res = {key[i]: value[i] for i in range(len(key))} \n",
    "    return res"
   ]
  },
  {
   "cell_type": "code",
   "execution_count": null,
   "metadata": {},
   "outputs": [],
   "source": [
    "#RENAME COLUMNS FOR THE ACT DF FOR CLARITY\n",
    "key = list(act_2019_ca.columns)\n",
    "value = df_columns_plus_text_to_list(act_2019_ca, 'act_')\n",
    "    \n",
    "new__act2019ca_columns_dict = two_lists_into_dict(key,value)\n",
    "  \n",
    "act_2019_ca.rename(columns=new__act2019ca_columns_dict, inplace=True)"
   ]
  },
  {
   "cell_type": "code",
   "execution_count": null,
   "metadata": {},
   "outputs": [],
   "source": [
    "#RENAME COLUMNS FOR THE SAT DF\n",
    "key = list(sat_2019_ca.columns)\n",
    "value = df_columns_plus_text_to_list(sat_2019_ca, 'sat_')\n",
    "\n",
    "new__sat2019ca_columns_dict = two_lists_into_dict(key,value)\n",
    "  \n",
    "sat_2019_ca.rename(columns=new__sat2019ca_columns_dict, inplace=True)"
   ]
  },
  {
   "cell_type": "code",
   "execution_count": null,
   "metadata": {
    "scrolled": true
   },
   "outputs": [],
   "source": [
    "sat_2019_ca.drop(columns=['sat_Unnamed: 25', 'sat_SName'], inplace=True)\n",
    "act_2019_ca.drop(columns=['act_SName', 'act_SCode', 'act_Unnamed: 17', 'act_AvgScrRead'], inplace=True)"
   ]
  },
  {
   "cell_type": "code",
   "execution_count": null,
   "metadata": {
    "scrolled": true
   },
   "outputs": [],
   "source": [
    "sat_2019_ca.isnull().sum() #check for nulls"
   ]
  },
  {
   "cell_type": "code",
   "execution_count": null,
   "metadata": {},
   "outputs": [],
   "source": [
    "sat_2019_ca.dropna(inplace=True) #drop nulls, these are values where no students took the SAT"
   ]
  },
  {
   "cell_type": "code",
   "execution_count": null,
   "metadata": {},
   "outputs": [],
   "source": [
    "print(sat_2019_ca.shape) #checking shape after dropping 311 rows\n",
    "sat_2019_ca.isnull().sum() #no more nulls, this is cleaned up"
   ]
  },
  {
   "cell_type": "code",
   "execution_count": null,
   "metadata": {},
   "outputs": [],
   "source": [
    "act_2019_ca.isnull().sum() #now doing the same for the ACT file"
   ]
  },
  {
   "cell_type": "code",
   "execution_count": null,
   "metadata": {},
   "outputs": [],
   "source": [
    "act_2019_ca.dropna(inplace=True) #drop nulls, these are records where no students took the ACT\n",
    "print(act_2019_ca.shape) #checking shape after dropping 357 rows\n",
    "act_2019_ca.isnull().sum() #no more nulls, this is cleaned up"
   ]
  },
  {
   "cell_type": "markdown",
   "metadata": {},
   "source": [
    "#### Clean up the files with lambda functions "
   ]
  },
  {
   "cell_type": "code",
   "execution_count": null,
   "metadata": {},
   "outputs": [],
   "source": [
    "#cleaning the ACT California data and converting type to 'float'\n",
    "act_2019_ca.act_AvgScrEng = act_2019_ca.act_AvgScrEng.map(lambda act_AvgScrEng: np.nan if act_AvgScrEng == '*' else float(act_AvgScrEng))\n",
    "act_2019_ca.act_AvgScrMath = act_2019_ca.act_AvgScrMath.map(lambda act_AvgScrMath: np.nan if act_AvgScrMath == '*' else float(act_AvgScrMath))\n",
    "act_2019_ca.act_AvgScrSci = act_2019_ca.act_AvgScrSci.map(lambda act_AvgScrSci: np.nan if act_AvgScrSci == '*' else float(act_AvgScrSci))\n",
    "act_2019_ca.act_NumGE21 = act_2019_ca.act_NumGE21.map(lambda act_NumGE21: np.nan if act_NumGE21 == '*' else float(act_NumGE21))\n",
    "act_2019_ca.act_PctGE21 = act_2019_ca.act_PctGE21.map(lambda act_PctGE21: np.nan if act_PctGE21 == '*' else float(act_PctGE21))"
   ]
  },
  {
   "cell_type": "code",
   "execution_count": null,
   "metadata": {},
   "outputs": [],
   "source": [
    "#cleaning the SAT California data and converting type to 'float'\n",
    "sat_2019_ca.sat_NumERWBenchmark11 = sat_2019_ca.sat_NumERWBenchmark11.map(lambda sat_NumERWBenchmark11: np.nan if sat_NumERWBenchmark11 == '*' else float(sat_NumERWBenchmark11))\n",
    "sat_2019_ca.sat_PctERWBenchmark11 = sat_2019_ca.sat_PctERWBenchmark11.map(lambda sat_PctERWBenchmark11: np.nan if sat_PctERWBenchmark11 == '*' else float(sat_PctERWBenchmark11))\n",
    "sat_2019_ca.sat_NumMathBenchmark11 = sat_2019_ca.sat_NumMathBenchmark11.map(lambda sat_NumMathBenchmark11: np.nan if sat_NumMathBenchmark11 == '*' else float(sat_NumMathBenchmark11))\n",
    "sat_2019_ca.sat_PctMathBenchmark12 = sat_2019_ca.sat_PctMathBenchmark12.map(lambda sat_PctMathBenchmark12: np.nan if sat_PctMathBenchmark12 == '*' else float(sat_PctMathBenchmark12))\n",
    "sat_2019_ca.sat_PctMathBenchmark11 = sat_2019_ca.sat_PctMathBenchmark11.map(lambda sat_PctMathBenchmark11: np.nan if sat_PctMathBenchmark11 == '*' else float(sat_PctMathBenchmark11))\n",
    "sat_2019_ca.sat_TotNumBothBenchmark12 = sat_2019_ca.sat_TotNumBothBenchmark12.map(lambda sat_TotNumBothBenchmark12: np.nan if sat_TotNumBothBenchmark12 == '*' else float(sat_TotNumBothBenchmark12))\n",
    "sat_2019_ca.sat_TotNumBothBenchmark11 = sat_2019_ca.sat_TotNumBothBenchmark11.map(lambda sat_TotNumBothBenchmark11: np.nan if sat_TotNumBothBenchmark11 == '*' else float(sat_TotNumBothBenchmark11))\n",
    "sat_2019_ca.sat_PctBothBenchmark11 = sat_2019_ca.sat_PctBothBenchmark11.map(lambda sat_PctBothBenchmark11: np.nan if sat_PctBothBenchmark11 == '*' else float(sat_PctBothBenchmark11))\n",
    "sat_2019_ca.sat_PctBothBenchmark12 = sat_2019_ca.sat_PctBothBenchmark12.map(lambda sat_PctBothBenchmark12: np.nan if sat_PctBothBenchmark12 == '*' else float(sat_PctBothBenchmark12))\n",
    "sat_2019_ca.sat_NumERWBenchmark12 = sat_2019_ca.sat_NumERWBenchmark12.map(lambda sat_NumERWBenchmark12: np.nan if sat_NumERWBenchmark12 == '*' else float(sat_NumERWBenchmark12))\n",
    "sat_2019_ca.sat_PctERWBenchmark12 = sat_2019_ca.sat_PctERWBenchmark12.map(lambda sat_PctERWBenchmark12: np.nan if sat_PctERWBenchmark12 == '*' else float(sat_PctERWBenchmark12))\n",
    "sat_2019_ca.sat_NumMathBenchmark12 = sat_2019_ca.sat_NumMathBenchmark12.map(lambda sat_NumMathBenchmark12: np.nan if sat_NumMathBenchmark12 == '*' else float(sat_NumMathBenchmark12))"
   ]
  },
  {
   "cell_type": "markdown",
   "metadata": {},
   "source": [
    "### Merge California ACT and SAT data "
   ]
  },
  {
   "cell_type": "code",
   "execution_count": null,
   "metadata": {},
   "outputs": [],
   "source": [
    "ca_test_data = pd.merge(act_2019_ca, sat_2019_ca, left_on=['act_CDS'], right_on=['sat_CDS'], how='outer')"
   ]
  },
  {
   "cell_type": "code",
   "execution_count": null,
   "metadata": {
    "scrolled": true
   },
   "outputs": [],
   "source": [
    "ca_test_data = ca_test_data.round(2) #round floats for easier viewing\n",
    "ca_test_data.head() #take a look at the combined data file"
   ]
  },
  {
   "cell_type": "markdown",
   "metadata": {},
   "source": [
    "#### California is divided between participation in the ACT and SAT. There is a preference of one of the other for each school/district/county. These functions select the college admission test that is most used by the school/district/county. I am trying to measure overall college prepardness, not whether the ACT or SAT is more effective."
   ]
  },
  {
   "cell_type": "code",
   "execution_count": null,
   "metadata": {},
   "outputs": [],
   "source": [
    "#students in 12th grade"
   ]
  },
  {
   "cell_type": "code",
   "execution_count": null,
   "metadata": {},
   "outputs": [],
   "source": [
    "def total_12th_grade_students(ca_test_data):\n",
    "    if ca_test_data['sat_NumTSTTakr12'] > np.nan_to_num(ca_test_data['act_NumTstTakr']):\n",
    "        return ca_test_data['sat_Enroll12']\n",
    "    elif ca_test_data['sat_NumTSTTakr12'] > ca_test_data['act_NumTstTakr']:\n",
    "        return ca_test_data['sat_Enroll12']\n",
    "    else:\n",
    "        return ca_test_data['act_Enroll12']\n",
    "\n",
    "ca_test_data['students_12th_grade'] = ca_test_data.apply (lambda ca_test_data: total_12th_grade_students(ca_test_data), axis=1)\n"
   ]
  },
  {
   "cell_type": "code",
   "execution_count": null,
   "metadata": {},
   "outputs": [],
   "source": [
    "#students in 12th grade that took either the ACT/SAT"
   ]
  },
  {
   "cell_type": "code",
   "execution_count": null,
   "metadata": {},
   "outputs": [],
   "source": [
    "def preferred_test(ca_test_data):\n",
    "    if ca_test_data['sat_NumTSTTakr12'] > np.nan_to_num(ca_test_data['act_NumTstTakr']):\n",
    "        return ca_test_data['sat_NumTSTTakr12']\n",
    "    elif ca_test_data['sat_NumTSTTakr12'] > ca_test_data['act_NumTstTakr']:\n",
    "        return ca_test_data['sat_NumTSTTakr12']\n",
    "    else:\n",
    "        return ca_test_data['act_NumTstTakr']\n",
    "\n",
    "ca_test_data['preferred_test_num_taken'] = ca_test_data.apply (lambda ca_test_data: preferred_test(ca_test_data), axis=1)\n"
   ]
  },
  {
   "cell_type": "code",
   "execution_count": null,
   "metadata": {},
   "outputs": [],
   "source": [
    "#the preferred test of the school/district/county"
   ]
  },
  {
   "cell_type": "code",
   "execution_count": null,
   "metadata": {},
   "outputs": [],
   "source": [
    "def preferred_test_name(ca_test_data):\n",
    "    if ca_test_data['sat_NumTSTTakr12'] > np.nan_to_num(ca_test_data['act_NumTstTakr']):\n",
    "        return 'SAT'\n",
    "    elif ca_test_data['sat_NumTSTTakr12'] > ca_test_data['act_NumTstTakr']:\n",
    "        return 'SAT'\n",
    "    else:\n",
    "        return 'ACT'\n",
    "\n",
    "ca_test_data['preferred_test_name'] = ca_test_data.apply (lambda ca_test_data: preferred_test_name(ca_test_data), axis=1)"
   ]
  },
  {
   "cell_type": "code",
   "execution_count": null,
   "metadata": {},
   "outputs": [],
   "source": [
    "#count of students who reached a benchmark score in either the SAT or the ACT"
   ]
  },
  {
   "cell_type": "code",
   "execution_count": null,
   "metadata": {},
   "outputs": [],
   "source": [
    "def num_benchmark(ca_test_data):\n",
    "    if ca_test_data['preferred_test_name'] == 'SAT':\n",
    "        return ca_test_data['sat_TotNumBothBenchmark12']\n",
    "    else:\n",
    "        return ca_test_data['act_NumGE21']\n",
    "\n",
    "ca_test_data['num_test_benchmark'] = ca_test_data.apply (lambda ca_test_data: num_benchmark(ca_test_data), axis=1)\n"
   ]
  },
  {
   "cell_type": "code",
   "execution_count": null,
   "metadata": {},
   "outputs": [],
   "source": [
    "#percentage of students who reached a benchmark score in either the SAT or the ACT"
   ]
  },
  {
   "cell_type": "code",
   "execution_count": null,
   "metadata": {},
   "outputs": [],
   "source": [
    "def prct_benchmark(ca_test_data):\n",
    "    if ca_test_data['preferred_test_name'] == 'SAT':\n",
    "        return ca_test_data['sat_PctBothBenchmark12']\n",
    "    else:\n",
    "        return ca_test_data['act_PctGE21']\n",
    "\n",
    "ca_test_data['prct_test_benchmark'] = ca_test_data.apply (lambda ca_test_data: prct_benchmark(ca_test_data), axis=1)\n",
    "\n"
   ]
  },
  {
   "cell_type": "code",
   "execution_count": null,
   "metadata": {},
   "outputs": [],
   "source": [
    "#cds code for 12th grade students"
   ]
  },
  {
   "cell_type": "code",
   "execution_count": null,
   "metadata": {},
   "outputs": [],
   "source": [
    "def cds(ca_test_data):\n",
    "    if ca_test_data['sat_NumTSTTakr12'] > np.nan_to_num(ca_test_data['act_NumTstTakr']):\n",
    "        return ca_test_data['sat_CDS']\n",
    "    elif ca_test_data['sat_NumTSTTakr12'] > ca_test_data['act_NumTstTakr']:\n",
    "        return ca_test_data['sat_CDS']\n",
    "    else:\n",
    "        return ca_test_data['act_CDS']\n",
    "\n",
    "ca_test_data['cds'] = ca_test_data.apply (lambda ca_test_data: cds(ca_test_data), axis=1)"
   ]
  },
  {
   "cell_type": "code",
   "execution_count": null,
   "metadata": {},
   "outputs": [],
   "source": [
    "#act/sat preference by county"
   ]
  },
  {
   "cell_type": "code",
   "execution_count": null,
   "metadata": {},
   "outputs": [],
   "source": [
    "def cname(ca_test_data):\n",
    "    if ca_test_data['sat_NumTSTTakr12'] > np.nan_to_num(ca_test_data['act_NumTstTakr']):\n",
    "        return ca_test_data['sat_CName']\n",
    "    elif ca_test_data['sat_NumTSTTakr12'] > ca_test_data['act_NumTstTakr']:\n",
    "        return ca_test_data['sat_CName']\n",
    "    else:\n",
    "        return ca_test_data['act_CName']\n",
    "\n",
    "ca_test_data['cname'] = ca_test_data.apply (lambda ca_test_data: cname(ca_test_data), axis=1)"
   ]
  },
  {
   "cell_type": "code",
   "execution_count": null,
   "metadata": {},
   "outputs": [],
   "source": [
    "#act/sat preference by district"
   ]
  },
  {
   "cell_type": "code",
   "execution_count": null,
   "metadata": {},
   "outputs": [],
   "source": [
    "def dname(ca_test_data):\n",
    "    if ca_test_data['sat_NumTSTTakr12'] > np.nan_to_num(ca_test_data['act_NumTstTakr']):\n",
    "        return ca_test_data['sat_DName']\n",
    "    elif ca_test_data['sat_NumTSTTakr12'] > ca_test_data['act_NumTstTakr']:\n",
    "        return ca_test_data['sat_DName']\n",
    "    else:\n",
    "        return ca_test_data['act_DName']\n",
    "\n",
    "ca_test_data['dname'] = ca_test_data.apply (lambda ca_test_data: dname(ca_test_data), axis=1)"
   ]
  },
  {
   "cell_type": "code",
   "execution_count": null,
   "metadata": {},
   "outputs": [],
   "source": [
    "#year record is recorded"
   ]
  },
  {
   "cell_type": "code",
   "execution_count": null,
   "metadata": {},
   "outputs": [],
   "source": [
    "def year(ca_test_data):\n",
    "    if ca_test_data['sat_NumTSTTakr12'] > np.nan_to_num(ca_test_data['act_NumTstTakr']):\n",
    "        return ca_test_data['sat_Year']\n",
    "    elif ca_test_data['sat_NumTSTTakr12'] > ca_test_data['act_NumTstTakr']:\n",
    "        return ca_test_data['sat_Year']\n",
    "    else:\n",
    "        return ca_test_data['act_Year']\n",
    "\n",
    "ca_test_data['year'] = ca_test_data.apply (lambda ca_test_data: year(ca_test_data), axis=1)"
   ]
  },
  {
   "cell_type": "code",
   "execution_count": null,
   "metadata": {
    "scrolled": true
   },
   "outputs": [],
   "source": [
    "ca_test_data.columns"
   ]
  },
  {
   "cell_type": "markdown",
   "metadata": {},
   "source": [
    "#### Filter data frame to include only the columns I created. These columns are all lowercase/snake_case"
   ]
  },
  {
   "cell_type": "code",
   "execution_count": null,
   "metadata": {
    "scrolled": true
   },
   "outputs": [],
   "source": [
    "cali = ca_test_data[['students_12th_grade', 'preferred_test_name', 'preferred_test_num_taken', \n",
    "               'num_test_benchmark', 'prct_test_benchmark', 'cds', 'cname', 'dname',\n",
    "               'year' ]]"
   ]
  },
  {
   "cell_type": "code",
   "execution_count": null,
   "metadata": {},
   "outputs": [],
   "source": [
    "cali.head(3) #look at this new dataframe"
   ]
  },
  {
   "cell_type": "code",
   "execution_count": null,
   "metadata": {},
   "outputs": [],
   "source": [
    "cali.shape #check this new dataframe's shape"
   ]
  },
  {
   "cell_type": "code",
   "execution_count": null,
   "metadata": {
    "scrolled": true
   },
   "outputs": [],
   "source": [
    "cali.isnull().sum() #checking for nulls since I used an outer join. There should be zero nulls for the columns created\n",
    "                    #by the functions above"
   ]
  },
  {
   "cell_type": "code",
   "execution_count": null,
   "metadata": {},
   "outputs": [],
   "source": [
    "cali.dropna() #drop null values. These are schools where less than 15 students took the test. The records are \n",
    "            #anonmous. I want records I can work with. "
   ]
  },
  {
   "cell_type": "code",
   "execution_count": null,
   "metadata": {},
   "outputs": [],
   "source": [
    "cali.columns #look at column names"
   ]
  },
  {
   "cell_type": "code",
   "execution_count": null,
   "metadata": {},
   "outputs": [],
   "source": [
    "cali = cali.groupby(['cname'])['students_12th_grade', 'preferred_test_num_taken', 'num_test_benchmark', 'prct_test_benchmark'].agg({\n",
    "    'students_12th_grade': 'sum',\n",
    "    'preferred_test_num_taken': 'sum',\n",
    "    'num_test_benchmark': 'sum',\n",
    "    'prct_test_benchmark': 'mean'\n",
    "\n",
    "})\n",
    "\n",
    "cali.reset_index(inplace = True)"
   ]
  },
  {
   "cell_type": "code",
   "execution_count": null,
   "metadata": {
    "scrolled": true
   },
   "outputs": [],
   "source": [
    "cali = cali.sort_values(['prct_test_benchmark'], ascending = False) #sort values based on 'prct_test_benchmark'\n",
    "cali.head()"
   ]
  },
  {
   "cell_type": "code",
   "execution_count": null,
   "metadata": {},
   "outputs": [],
   "source": [
    "cali.to_csv('/Users/jvillines/Documents/DSI/01-week/Projects/project_1/data/cali.csv', index=False)"
   ]
  },
  {
   "cell_type": "markdown",
   "metadata": {},
   "source": [
    "## CAASSP Data "
   ]
  },
  {
   "cell_type": "code",
   "execution_count": null,
   "metadata": {},
   "outputs": [],
   "source": [
    "#need to re-combine data files that were split due to large size\n",
    "\n",
    "caassp_dataframes=  [caassp00,caassp01,caassp02,caassp03,caassp04,caassp05,caassp06,caassp07]\n",
    "caassp = pd.concat(caassp_dataframes)"
   ]
  },
  {
   "cell_type": "code",
   "execution_count": null,
   "metadata": {},
   "outputs": [],
   "source": [
    "caassp.head(5) #take a look at header"
   ]
  },
  {
   "cell_type": "code",
   "execution_count": null,
   "metadata": {},
   "outputs": [],
   "source": [
    "caassp.shape #a whole bunch of records!"
   ]
  },
  {
   "cell_type": "code",
   "execution_count": null,
   "metadata": {},
   "outputs": [],
   "source": [
    "caassp.dtypes #going to have to convert those objects to numeric types"
   ]
  },
  {
   "cell_type": "code",
   "execution_count": null,
   "metadata": {},
   "outputs": [],
   "source": [
    "caassp.isnull().sum() #lots of nulls in 'filler' and 'mean_scale_score'. Let's drop these. "
   ]
  },
  {
   "cell_type": "code",
   "execution_count": null,
   "metadata": {},
   "outputs": [],
   "source": [
    "caassp.drop(columns= ['mean_scale_score','filler', 'test_type'], inplace = True) #drop columns with null values"
   ]
  },
  {
   "cell_type": "code",
   "execution_count": null,
   "metadata": {
    "scrolled": true
   },
   "outputs": [],
   "source": [
    "caassp['area_1_percentage_below_standard'].value_counts().head()   #  1,613,428 '*'  that need to be converted "
   ]
  },
  {
   "cell_type": "code",
   "execution_count": null,
   "metadata": {},
   "outputs": [],
   "source": [
    "#function to remove astrisks and replace with np.nan\n",
    "def cleanastrisk(df):\n",
    "    cleaned = []\n",
    "    for i in df:\n",
    "        if i == '*':\n",
    "            cleaned.append(np.nan)\n",
    "        else:\n",
    "            cleaned.append(i)\n",
    "    return cleaned"
   ]
  },
  {
   "cell_type": "code",
   "execution_count": null,
   "metadata": {},
   "outputs": [],
   "source": [
    "#put astrisk cleaner function into a dicitonary comprehension so it get applied to all columns\n",
    "caassp = {col.name:cleanastrisk(col) for col in [caassp[i] for i in caassp.columns if (caassp[i].dtype=='float64') or (caassp[i].dtype=='int64') or (caassp[i].dtype=='O') or (caassp[i].dtype=='string')]}"
   ]
  },
  {
   "cell_type": "code",
   "execution_count": null,
   "metadata": {},
   "outputs": [],
   "source": [
    "#put that result into a dataframe\n",
    "caassp = pd.DataFrame.from_dict(caassp)"
   ]
  },
  {
   "cell_type": "code",
   "execution_count": null,
   "metadata": {},
   "outputs": [],
   "source": [
    "caassp.head() #let's see what we are working with now"
   ]
  },
  {
   "cell_type": "code",
   "execution_count": null,
   "metadata": {},
   "outputs": [],
   "source": [
    "#next apply function to convert all data types to float\n",
    "def converttoint(caassp):\n",
    "    ints = []\n",
    "    for i in caassp.columns:\n",
    "        caassp[i] = caassp[i].astype(str).astype(float)\n",
    "        ints.append(i)\n",
    "    return ints\n",
    "\n",
    "converttoint(caassp)"
   ]
  },
  {
   "cell_type": "code",
   "execution_count": null,
   "metadata": {
    "scrolled": true
   },
   "outputs": [],
   "source": [
    "caassp.dtypes #check to see if it worked, it did!"
   ]
  },
  {
   "cell_type": "code",
   "execution_count": null,
   "metadata": {
    "scrolled": true
   },
   "outputs": [],
   "source": [
    "caassp.head()"
   ]
  },
  {
   "cell_type": "code",
   "execution_count": null,
   "metadata": {},
   "outputs": [],
   "source": [
    "#save csv\n",
    "##TO LARGE TO UPLOAD TO GA GITHUB ENTERPRISE\n",
    "#caassp.to_csv('/Users/jvillines/Documents/DSI/01-week/Projects/project_1/data/caassp.csv', index=False)"
   ]
  },
  {
   "cell_type": "markdown",
   "metadata": {},
   "source": [
    "### Prepare dataframes for mapping\n",
    "#### Caassp scores map\n",
    "#### California SAT/ACT benchmark scores map"
   ]
  },
  {
   "cell_type": "code",
   "execution_count": null,
   "metadata": {},
   "outputs": [],
   "source": [
    "#first limit to 11th grade students\n",
    "caassp = caassp[caassp['grade'] == 11]\n",
    "\n",
    "#group by county code so that merge with county_codes doesn't take forever\n",
    "caassp_map = caassp.groupby(['county_code'])['percentage_standard_exceeded', 'percentage_standard_met',\n",
    "       'percentage_standard_met_and_above', 'percentage_standard_nearly_met',\n",
    "       'percentage_standard_not_met', 'students_with_scores'].agg({\n",
    "    'percentage_standard_exceeded': 'mean',\n",
    "    'percentage_standard_met': 'mean',\n",
    "    'percentage_standard_not_met': 'mean',\n",
    "    'percentage_standard_met_and_above': 'mean',\n",
    "    'percentage_standard_nearly_met': 'mean',\n",
    "    'students_with_scores': 'sum'})\n",
    "\n",
    "caassp_map.reset_index(inplace = True)"
   ]
  },
  {
   "cell_type": "code",
   "execution_count": null,
   "metadata": {},
   "outputs": [],
   "source": [
    "caassp_info.head()"
   ]
  },
  {
   "cell_type": "code",
   "execution_count": null,
   "metadata": {},
   "outputs": [],
   "source": [
    "#Get county codes from casp_info file\n",
    "caassp_info.drop(columns=['Filler'], inplace = True)\n",
    "county_codes = caassp_info[['County Code', 'County Name']]\n",
    "\n",
    "#rename columns to lower, snake_case\n",
    "county_codes_dict = {\n",
    "    'County Code': 'county_code',\n",
    "    'County Name': 'county_name',\n",
    "   \n",
    "    \n",
    "}\n",
    "\n",
    "county_codes.rename(columns=county_codes_dict, inplace=True)\n",
    "\n",
    "#remove duplicates\n",
    "county_codes.drop_duplicates(inplace=True)\n",
    "\n",
    "county_codes.head()"
   ]
  },
  {
   "cell_type": "code",
   "execution_count": null,
   "metadata": {},
   "outputs": [],
   "source": [
    "caassp_map.head()"
   ]
  },
  {
   "cell_type": "code",
   "execution_count": null,
   "metadata": {},
   "outputs": [],
   "source": [
    "#merge county code and county name info to caassp main file. This is so I can merge caassp_map on census fips geocodes.\n",
    "caassp_map = pd.merge(caassp_map, county_codes, left_on=['county_code'], right_on=['county_code'], how='left')"
   ]
  },
  {
   "cell_type": "markdown",
   "metadata": {},
   "source": [
    "### Prepare Census Geocode data for mapping purposes "
   ]
  },
  {
   "cell_type": "code",
   "execution_count": null,
   "metadata": {},
   "outputs": [],
   "source": [
    "#get rid of nulls\n",
    "geocodes.dropna(inplace=True)\n",
    "#set columns \n",
    "geocodes.columns = geocodes.loc[3]\n",
    "# and drop the row now being used as header\n",
    "geocodes.drop(geocodes.index[0], inplace = True)"
   ]
  },
  {
   "cell_type": "code",
   "execution_count": null,
   "metadata": {},
   "outputs": [],
   "source": [
    "#rename columns\n",
    "geocodes_columns_dict = {\n",
    "    'Summary Level': 'summary', \n",
    "     'State Code (FIPS)': 'state_code', \n",
    "     'County Code (FIPS)': 'county_code',\n",
    "     'County Subdivision Code (FIPS)': 'county_subdivision_code', \n",
    "     'Place Code (FIPS)': 'place_code',\n",
    "     'Consolidtated City Code (FIPS)': 'condsolidated_city_code',\n",
    "     'Area Name (including legal/statistical area description)':'area_name'    \n",
    "}"
   ]
  },
  {
   "cell_type": "code",
   "execution_count": null,
   "metadata": {},
   "outputs": [],
   "source": [
    "geocodes.rename(columns=geocodes_columns_dict, inplace=True)"
   ]
  },
  {
   "cell_type": "code",
   "execution_count": null,
   "metadata": {},
   "outputs": [],
   "source": [
    "#filter for california specific codes\n",
    "cali_codes = geocodes[geocodes['state_code'] == '06']\n",
    "#create column combining 'State Code' and 'County Code'\n",
    "cali_codes['cali_county_fips'] = cali_codes['state_code'] + cali_codes['county_code']\n",
    "#remove word 'county' from so I can merge on column name #https://www.w3schools.com/python/ref_string_replace.asp\n",
    "cali_codes['county'] = cali_codes['area_name'].replace('County','', regex=True).str.strip()\n",
    "\n",
    "cali_codes.head()"
   ]
  },
  {
   "cell_type": "code",
   "execution_count": null,
   "metadata": {},
   "outputs": [],
   "source": [
    "#merge caassp_map on census california fips codes\n",
    "caassp_map = pd.merge(caassp_map, cali_codes, left_on=['county_name'], right_on=['county'], how='left')"
   ]
  },
  {
   "cell_type": "code",
   "execution_count": null,
   "metadata": {},
   "outputs": [],
   "source": [
    "#remove because not a county\n",
    "caassp_map = caassp_map[caassp_map['county_name'] != 'State of California']"
   ]
  },
  {
   "cell_type": "code",
   "execution_count": null,
   "metadata": {},
   "outputs": [],
   "source": [
    "#round the result so it shows in legend cleaner\n",
    "caassp_map = caassp_map.round(0)"
   ]
  },
  {
   "cell_type": "code",
   "execution_count": null,
   "metadata": {},
   "outputs": [],
   "source": [
    "#df for the map for california ACT/SAT benchmark\n",
    "cali_map = pd.merge(cali, cali_codes, left_on=['cname'], right_on=['county'], how='left')\n",
    "#remove because not a county\n",
    "cali_map = cali_map[cali_map['cname'] != 'State of California']\n"
   ]
  },
  {
   "cell_type": "code",
   "execution_count": null,
   "metadata": {},
   "outputs": [],
   "source": [
    "cali_map = cali_map.dropna()"
   ]
  },
  {
   "cell_type": "code",
   "execution_count": null,
   "metadata": {},
   "outputs": [],
   "source": [
    "#round the result so it shows in legend cleaner\n",
    "cali_map = cali_map.round(0)"
   ]
  },
  {
   "cell_type": "markdown",
   "metadata": {},
   "source": [
    "### Prepare socioeconomic data "
   ]
  },
  {
   "cell_type": "code",
   "execution_count": null,
   "metadata": {
    "scrolled": true
   },
   "outputs": [],
   "source": [
    "development.head()"
   ]
  },
  {
   "cell_type": "code",
   "execution_count": null,
   "metadata": {},
   "outputs": [],
   "source": [
    "development.columns"
   ]
  },
  {
   "cell_type": "code",
   "execution_count": null,
   "metadata": {
    "scrolled": true
   },
   "outputs": [],
   "source": [
    "development.isnull().sum()"
   ]
  },
  {
   "cell_type": "code",
   "execution_count": null,
   "metadata": {
    "scrolled": true
   },
   "outputs": [],
   "source": [
    "development = development.dropna()"
   ]
  },
  {
   "cell_type": "code",
   "execution_count": null,
   "metadata": {
    "scrolled": true
   },
   "outputs": [],
   "source": [
    "#select columns we want to look at\n",
    "development = development[['County', 'Population (January 2019)', 'Planted Acres as proportion of population','Poverty: Under 18 (2017)',\n",
    " 'Poverty: Under 18 Percent (2017)', 'Median Household Income (2017)']]"
   ]
  },
  {
   "cell_type": "code",
   "execution_count": null,
   "metadata": {},
   "outputs": [],
   "source": [
    "#rename columns\n",
    "dev_columns_dict = {\n",
    "    'County': 'county', \n",
    "     'Population (January 2019)': 'population', \n",
    "     'Planted Acres as proportion of population': 'proportion_pop_to_farmland',\n",
    "     'Poverty: Under 18 (2017)': 'poverty_under18_sum', \n",
    "     'Poverty: Under 18 Percent (2017)': 'poverty_under18_percent',\n",
    "     'Median Household Income (2017)': 'hh_income',    \n",
    "}\n",
    "\n",
    "development.rename(columns=dev_columns_dict, inplace=True)"
   ]
  },
  {
   "cell_type": "code",
   "execution_count": null,
   "metadata": {
    "scrolled": true
   },
   "outputs": [],
   "source": [
    "development.head()"
   ]
  },
  {
   "cell_type": "code",
   "execution_count": null,
   "metadata": {},
   "outputs": [],
   "source": [
    "#remove ',' and '$' from hh_income\n",
    "development['hh_income'] = development['hh_income'].str.replace(',', '').str.replace('$', '').astype(int)"
   ]
  },
  {
   "cell_type": "code",
   "execution_count": null,
   "metadata": {},
   "outputs": [],
   "source": [
    "#convert poverty_under18_percent to float using percent_to_float function so that it can be aggregated\n",
    "development.poverty_under18_percent = percent_to_float(development.poverty_under18_percent)"
   ]
  },
  {
   "cell_type": "code",
   "execution_count": null,
   "metadata": {},
   "outputs": [],
   "source": [
    "development.dtypes"
   ]
  },
  {
   "cell_type": "code",
   "execution_count": null,
   "metadata": {},
   "outputs": [],
   "source": [
    "#development map information\n",
    "development_map = pd.merge(development, cali_codes, left_on=['county'], right_on=['county'], how='left')"
   ]
  },
  {
   "cell_type": "code",
   "execution_count": null,
   "metadata": {},
   "outputs": [],
   "source": [
    "#so it shows up as 20.0 instead of .20 for percents\n",
    "development_map['poverty_under18_percent'] = development_map['poverty_under18_percent']*100"
   ]
  },
  {
   "cell_type": "code",
   "execution_count": null,
   "metadata": {
    "scrolled": true
   },
   "outputs": [],
   "source": [
    "development_map.head()"
   ]
  },
  {
   "cell_type": "code",
   "execution_count": null,
   "metadata": {},
   "outputs": [],
   "source": [
    "#development on caassp_map\n",
    "dev_cali = pd.merge(development, caassp_map, left_on=['county'], right_on=['county'], how='left')\n",
    "dev_cali.dropna"
   ]
  },
  {
   "cell_type": "code",
   "execution_count": null,
   "metadata": {},
   "outputs": [],
   "source": [
    "dev_cali.columns"
   ]
  },
  {
   "cell_type": "code",
   "execution_count": null,
   "metadata": {},
   "outputs": [],
   "source": [
    "#rename columns\n",
    "dev_columns_dict = {\n",
    "    'percentage_standard_not_met':  'percentage_standard_not_met_caassp'   \n",
    "}\n",
    "\n",
    "dev_cali.rename(columns=dev_columns_dict, inplace=True)"
   ]
  },
  {
   "cell_type": "code",
   "execution_count": null,
   "metadata": {},
   "outputs": [],
   "source": [
    "dev_cali = pd.merge(dev_cali, cali_map, left_on=['county'], right_on=['county'], how='left')"
   ]
  },
  {
   "cell_type": "code",
   "execution_count": null,
   "metadata": {},
   "outputs": [],
   "source": [
    "cali_map.columns"
   ]
  },
  {
   "cell_type": "code",
   "execution_count": null,
   "metadata": {},
   "outputs": [],
   "source": [
    "dev_cali.columns"
   ]
  },
  {
   "cell_type": "markdown",
   "metadata": {},
   "source": [
    "##   Data Dictionary\n",
    "\n",
    "|Feature|Type|Dataset|Description|\n",
    "|---|---|---|---|\n",
    "|participation_sat|object|National ACT/SAT (act_sat.csv)|Participation rate in the SAT as a percent|\n",
    "|state|object|National ACT/SAT (act_sat.csv)|Record State|\n",
    "|total_sat_score|int|National ACT/SAT (act_sat.csv)|Total average SAT score for record state|\n",
    "|year|object|National ACT/SAT (act_sat.csv)|Year record was created|\n",
    "|participation_act|float|National ACT/SAT (act_sat.csv)|Participation rate in the ACT as a percent|\n",
    "|total_act_score|float|National ACT/SAT (act_sat.csv)|Total average ACT score for record state|\n",
    "|students_12th_grade|float|California ACT/SAT (cali.csv)|Number of students in 12th grade in schools participating in the ACT/SAT| \n",
    "|preferred_test_name|object|California ACT/SAT (cali.csv)|District/County preference in college admission test (ACT or SAT)| \n",
    "|preferred_test_num_taken|float|California ACT/SAT (cali.csv)|Number of students in 12th grade in schools participating in the ACT/SAT| \n",
    "|num_test_benchmark|float|California ACT/SAT (cali.csv)|Number of students that meet benchmark scores in the SAT or ACT| \n",
    "|prct_test_benchmark|float|California ACT/SAT (cali.csv)|Percentage of students that meet benchmark scores in the SAT or ACT| \n",
    "|cds|float|California ACT/SAT (cali.csv)|County/District/School Code| \n",
    "|cname|object|California ACT/SAT (cali.csv)|County name|\n",
    "|dname|object|California ACT/SAT (cali.csv)|District name|\n",
    "|year|object|California ACT/SAT (cali.csv)|Record year|\n",
    "|county_code|float|CAASSP (casspp.csv)|CAASSP county code|\n",
    "|county_name|object|CAASSP (casspp.csv)|california county name|\n",
    "|students_with_scores|float|CAASSP (casspp.csv)|student's with CAASSP scores|\n",
    "|percentage_standard_not_met|float|CAASSP (casspp.csv)|Percentage of students who did not meet the standard|\n",
    "|percentage_standard_nearly_met|float|CAASSP (casspp.csv)|Percentage of students who nearly met the standard|\n",
    "|percentage_standard_met|float|CAASSP (casspp.csv)|Percentage of students who meet the standard|\n",
    "|percentage_standard_met_and_above|float|CAASSP (casspp.csv)|Percentage of students who met and passed the standard|\n",
    "|percentage_standard_exceeded|float|CAASSP (casspp.csv)|Percentage of students who exceeded the standard|\n",
    "|cali_county_fips|object|Census Geocodes|FIPS Geocode information for choropeth mapping|\n",
    "|county|object|State Development data (development.csv)|County|\n",
    "|population|object|State Development data (development.csv)|Population by county|\n",
    "|proportion_pop_to_farmland|object|State Development data (development.csv)|Planted acres/population|\n",
    "|poverty_under18_sum|object|State Development data (development.csv)|Poverty Rate, Under 18 as a percent|\n",
    "|poverty_under18_percent|float|State Development data (development.csv)|Poverty Rate, Under 18 as a sum|\n",
    "|hh_income|int|State Development data (development.csv)|Median Household Income 2016|\n"
   ]
  },
  {
   "cell_type": "markdown",
   "metadata": {},
   "source": [
    "# Exploratory Data Analysis and Visualization"
   ]
  },
  {
   "cell_type": "markdown",
   "metadata": {},
   "source": [
    "## Comparing California to national trends\n",
    "### 1) How many standard deviations from the national average are california's ACT/SAT scores? "
   ]
  },
  {
   "cell_type": "code",
   "execution_count": null,
   "metadata": {
    "scrolled": true
   },
   "outputs": [],
   "source": [
    "#filter to only 2019 so can compare to California 2019 data\n",
    "act_sat_2019 = act_sat[act_sat['year'] == '2019']\n",
    "act_sat_2019 = act_sat_2019[['state', 'total_act_score', 'total_sat_score']]"
   ]
  },
  {
   "cell_type": "code",
   "execution_count": null,
   "metadata": {},
   "outputs": [],
   "source": [
    "#group by state, could also filter here\n",
    "national_score_average = act_sat.groupby(['state'])['total_sat_score', 'total_act_score'].agg({\n",
    "    'total_sat_score': 'mean',\n",
    "    'total_act_score': 'mean',\n",
    "}) \n",
    "national_sat_average = national_score_average['total_sat_score'].sort_values(ascending = False)\n",
    "national_act_average = national_score_average['total_act_score'].sort_values(ascending = False)\n",
    "national_act_average.head()"
   ]
  },
  {
   "cell_type": "code",
   "execution_count": null,
   "metadata": {},
   "outputs": [],
   "source": [
    "act_sat.head()"
   ]
  },
  {
   "cell_type": "markdown",
   "metadata": {},
   "source": [
    "##### Apply stdev() function to each numeric column in National ACT/SAT scores"
   ]
  },
  {
   "cell_type": "code",
   "execution_count": null,
   "metadata": {},
   "outputs": [],
   "source": [
    "{col.name:stdev(col) for col in [national_score_average[i] for i in national_score_average.columns if (national_score_average[i].dtype=='float64') or (national_score_average[i].dtype=='int64')]}"
   ]
  },
  {
   "cell_type": "code",
   "execution_count": null,
   "metadata": {
    "scrolled": true
   },
   "outputs": [],
   "source": [
    "# Filter for CA average\n",
    "act_sat_2019_cali= act_sat_2019[act_sat_2019['state'] == 'California']\n",
    "act_sat_2019_cali.head()"
   ]
  },
  {
   "cell_type": "markdown",
   "metadata": {},
   "source": [
    "### California's ACT/sat scores compared to national average. It is 0.5 stdevs above national mean for ACT. -0.5 stdevs below national mean for the SAT\n",
    "### California is below the average. \n",
    "|Description|Scope|Average|Standard Deviation|Summary|\n",
    "|---|---|---|---|---|\n",
    "|ACT|USA|21.5|2.1|95% of students score between 19.4 and 23.5|\n",
    "|SAT|USA|1120|90|95% of students score between 1030 and 1210|\n",
    "|ACT|CA|22.6|+0.5 deviations from national mean|score is 1.1 points higher than national average|\n",
    "|SAT|CA|1065|-0.5 deviations from national mean|score is 45 points lower than national average|\n",
    "\n",
    "For the ACT our students, on average, score half a standard deviation above the mean. For the SAT, our students score one standard deviation below the mean. \n",
    "\n",
    "Based, on this I don't recommend taking one test over the other, but we do see that there is a mix of preference towards the ACT/SAT accross districts and schools in California (this preference does favor the SAT though). \n"
   ]
  },
  {
   "cell_type": "markdown",
   "metadata": {},
   "source": [
    "## 2) Does the state of California prefer using the ACT or the SAT? "
   ]
  },
  {
   "cell_type": "code",
   "execution_count": null,
   "metadata": {},
   "outputs": [],
   "source": [
    "act_sat_cali_preference = act_sat[act_sat['state'] =='California']\n",
    "act_sat_cali_preference.head()"
   ]
  },
  {
   "cell_type": "markdown",
   "metadata": {},
   "source": [
    "### The preference is for the SAT and the state has been increasingly trending towards use of the SAT. However, many students still participate in the ACT."
   ]
  },
  {
   "cell_type": "markdown",
   "metadata": {},
   "source": [
    "|Year|Participation Rate ACT|Participation Rate SAT|\n",
    "|---|---|---|\n",
    "|2017|31%|53%|\n",
    "|2018|27%|60%|\n",
    "|2019|23%|63%|\n"
   ]
  },
  {
   "cell_type": "code",
   "execution_count": null,
   "metadata": {},
   "outputs": [],
   "source": [
    "# Seaborn histplot \n",
    "sns.histplot(act_sat['total_sat_score'], bins = 15);\n",
    "plt.title(\"Histogram of SAT Scores for all state\")\n",
    "# Set x-axis label\n",
    "plt.ylabel('State Count')\n",
    "# Set y-axis label\n",
    "plt.xlabel('SAT Scores')\n"
   ]
  },
  {
   "cell_type": "markdown",
   "metadata": {},
   "source": [
    "## California specific analysis "
   ]
  },
  {
   "cell_type": "markdown",
   "metadata": {},
   "source": [
    "## 3) What are the best performing and worst performing counties for ACT/SAT benchmark scores and CAASSP scores?"
   ]
  },
  {
   "cell_type": "code",
   "execution_count": null,
   "metadata": {},
   "outputs": [],
   "source": [
    "#create column for percentage benchmark not met\n",
    "caassp_map['prct_benchmark_not_met'] = caassp_map['percentage_standard_nearly_met'] + caassp_map['percentage_standard_not_met']"
   ]
  },
  {
   "cell_type": "code",
   "execution_count": null,
   "metadata": {},
   "outputs": [],
   "source": [
    "#create column for percentage benchmark not met\n",
    "cali_map['prct_benchmark_not_met'] = 100 - cali_map['prct_test_benchmark']"
   ]
  },
  {
   "cell_type": "code",
   "execution_count": null,
   "metadata": {},
   "outputs": [],
   "source": [
    "#create column for percentage benchmark not met\n",
    "cali['prct_benchmark_not_met'] = 100 - cali['prct_test_benchmark']"
   ]
  },
  {
   "cell_type": "markdown",
   "metadata": {},
   "source": [
    "#### ACT/SAT"
   ]
  },
  {
   "cell_type": "markdown",
   "metadata": {},
   "source": [
    "For ACT/SAT an average of 53% of counties did not meet the benchmark for college preparedness with a standard deviation of 15%. This means that 95% of counties fall between 38%-70% of students failing to meet the benchmark. With 3/4ths of counties falling beneath 65% benchmark met. \n",
    "\n",
    "This suggests that there are some counties that are way more prepared for the ACT/SAT in the top quartile than the bottom."
   ]
  },
  {
   "cell_type": "code",
   "execution_count": null,
   "metadata": {
    "scrolled": true
   },
   "outputs": [],
   "source": [
    "cali.describe().T"
   ]
  },
  {
   "cell_type": "markdown",
   "metadata": {},
   "source": [
    "The mean of prct_benchmark_not_met is close to the mode, but slightly higher suggesting a mostly normal distribution, but with slight right skew. There are slightly more scores at the higher end of the spectrum than the lower end. "
   ]
  },
  {
   "cell_type": "code",
   "execution_count": null,
   "metadata": {},
   "outputs": [],
   "source": [
    "sns.set(style=\"whitegrid\")\n",
    "save = sns.boxplot(cali_map.prct_benchmark_not_met);\n",
    "figure = save.get_figure()\n",
    "filename = '../Data/cali_box_whisker.png'\n",
    "figure.savefig(filename, dpi=100)\n",
    "\n",
    "\n",
    "plt.title(\"Boxplot of ACT/SAT Scores\")\n",
    "# Set x-axis label\n",
    "plt.ylabel('')\n",
    "# Set y-axis label\n",
    "plt.xlabel('% benchmark not met')"
   ]
  },
  {
   "cell_type": "markdown",
   "metadata": {},
   "source": [
    "The boxplot supports the above comment."
   ]
  },
  {
   "cell_type": "code",
   "execution_count": null,
   "metadata": {
    "scrolled": true
   },
   "outputs": [],
   "source": [
    "# Seaborn histplot \n",
    "save = sns.histplot(cali_map['prct_benchmark_not_met'], bins = 10);\n",
    "\n",
    "figure = save.get_figure()\n",
    "filename = '../Data/cali_hist.png'\n",
    "figure.savefig(filename, dpi=100)\n",
    "\n",
    "plt.title(\"Histogram of ACT/SAT Scores\")\n",
    "# Set x-axis label\n",
    "plt.ylabel('Count')\n",
    "# Set y-axis label\n",
    "plt.xlabel('% benchmark not met')"
   ]
  },
  {
   "cell_type": "markdown",
   "metadata": {},
   "source": [
    "The data in a histogram to show frequency of counts of particular scores."
   ]
  },
  {
   "cell_type": "code",
   "execution_count": null,
   "metadata": {},
   "outputs": [],
   "source": [
    "#sort values so worst on top\n",
    "cali_map = cali_map.sort_values(['prct_benchmark_not_met'], ascending = False) #sort values based on 'prct_test_benchmark'"
   ]
  },
  {
   "cell_type": "code",
   "execution_count": null,
   "metadata": {},
   "outputs": [],
   "source": [
    "cali_map.head()"
   ]
  },
  {
   "cell_type": "code",
   "execution_count": null,
   "metadata": {},
   "outputs": [],
   "source": [
    "cali_worst_chart = cali_map.head(10)\n",
    "# counties with performance not meeting the ACT/SAT benchmark\n",
    "\n",
    "# Initialize the matplotlib figure\n",
    "f, ax = plt.subplots(figsize=(6, 6))\n",
    "\n",
    "sns.set_color_codes(\"muted\")\n",
    "save = sns.barplot(x=cali_worst_chart['prct_benchmark_not_met'], y=cali_worst_chart['county'], data=cali_worst_chart,\n",
    "            label=\"Total\", color=\"b\", orient = \"h\")\n",
    "ax.set(xlabel=\"Counties with worst performance on ACT/SAT\")\n",
    "sns.despine(left=True, bottom=True)\n",
    ";\n",
    "\n",
    "plt.title(\"Counties with worst performance on ACT/SAT\")\n",
    "# Set x-axis label\n",
    "plt.ylabel('County')\n",
    "# Set y-axis label\n",
    "plt.xlabel('% Benchmark not Met')\n",
    "\n",
    "figure = save.get_figure()\n",
    "filename = '../Data/cali_bar.png'\n",
    "figure.savefig(filename, dpi=50)"
   ]
  },
  {
   "cell_type": "code",
   "execution_count": null,
   "metadata": {},
   "outputs": [],
   "source": [
    "cali_worst_chart"
   ]
  },
  {
   "cell_type": "markdown",
   "metadata": {},
   "source": [
    "### Colusa, Modoc, Inyo, Merced, Glenn, Fresno, Tulare, Madera, and Tehama  are the 10 worst performers based on ACT/SAT benchmark met."
   ]
  },
  {
   "cell_type": "markdown",
   "metadata": {},
   "source": [
    "### Del Norte, Tehama, Lake, Merced, Inyo, Yubo, Kings, Madera, Lassen, and Kern are the 10 worst performers based on CAASSP benchmark met."
   ]
  },
  {
   "cell_type": "markdown",
   "metadata": {},
   "source": [
    "### Del Norte, Trinity, Modoc, Tehama, Imperial, Siskiyou, Lake, Humbodlt, Tulare, and Merced have the lowest median household incomes"
   ]
  },
  {
   "cell_type": "markdown",
   "metadata": {},
   "source": [
    "#### CAASSP "
   ]
  },
  {
   "cell_type": "markdown",
   "metadata": {},
   "source": [
    "For CAASSP an average of 62% of counties did not meet the benchmark for college preparedness with a standard deviation of 6.5%. This means that 95% of counties fall between 55.5%-67.5% of students failing to meet the benchmark. With 3/4ths of counties falling beneath 66% benchmark met.\n",
    "\n",
    "This means that many students may not be prepared, but that the."
   ]
  },
  {
   "cell_type": "code",
   "execution_count": null,
   "metadata": {
    "scrolled": true
   },
   "outputs": [],
   "source": [
    "caassp_map.describe().T"
   ]
  },
  {
   "cell_type": "markdown",
   "metadata": {},
   "source": [
    "The mean for prct_benchmark_not_met is close to the mode suggesting a normal distribution"
   ]
  },
  {
   "cell_type": "code",
   "execution_count": null,
   "metadata": {
    "scrolled": true
   },
   "outputs": [],
   "source": [
    "save = sns.boxplot(caassp_map.prct_benchmark_not_met);\n",
    "figure = save.get_figure()\n",
    "filename = '../Data/caassp_box_whisker.png'\n",
    "figure.savefig(filename, dpi=100)"
   ]
  },
  {
   "cell_type": "code",
   "execution_count": null,
   "metadata": {},
   "outputs": [],
   "source": [
    "# Seaborn histplot \n",
    "save = sns.histplot(caassp_map['prct_benchmark_not_met']);\n",
    "\n",
    "figure = save.get_figure()\n",
    "filename = '../Data/caassp_hist.png'\n",
    "figure.savefig(filename, dpi=100)"
   ]
  },
  {
   "cell_type": "code",
   "execution_count": null,
   "metadata": {},
   "outputs": [],
   "source": [
    "#sort values so worst on top\n",
    "caassp_map = caassp_map.sort_values(['prct_benchmark_not_met'], ascending = False) #sort values based on 'prct_test_benchmark'"
   ]
  },
  {
   "cell_type": "markdown",
   "metadata": {},
   "source": [
    "Horizontal bar chart of the worst performing counties in the CAASSP"
   ]
  },
  {
   "cell_type": "code",
   "execution_count": null,
   "metadata": {},
   "outputs": [],
   "source": [
    "caassp_worst_chart = caassp_map.head(10)\n",
    "# Percentage of 11th grade students with below benchmark scores for the CAASSP\n",
    "sns.set(style=\"whitegrid\")\n",
    "# Initialize the matplotlib figure\n",
    "f, ax = plt.subplots(figsize=(6, 6))\n",
    "sns.set_color_codes(\"muted\")\n",
    "\n",
    "save = sns.barplot(x=caassp_worst_chart['prct_benchmark_not_met'], y=caassp_worst_chart['county'], data=caassp_worst_chart,\n",
    "            label=\"Total\", color=\"b\", orient = \"h\")\n",
    "ax.set(xlabel=\"Counties with worst performance on CAASSP\")\n",
    "sns.despine(left=True, bottom=True)\n",
    ";\n",
    "\n",
    "plt.title(\"Counties with worst performance on CAASSP\")\n",
    "# Set x-axis label\n",
    "plt.ylabel('County')\n",
    "# Set y-axis label\n",
    "plt.xlabel('% Benchmark not Met')\n",
    "\n",
    "figure = save.get_figure()\n",
    "filename = '../Data/caassp_worst_chart.png'\n",
    "figure.savefig(filename, dpi=100)"
   ]
  },
  {
   "cell_type": "code",
   "execution_count": null,
   "metadata": {},
   "outputs": [],
   "source": [
    "caassp_worst_chart"
   ]
  },
  {
   "cell_type": "markdown",
   "metadata": {},
   "source": [
    "### Development data "
   ]
  },
  {
   "cell_type": "code",
   "execution_count": null,
   "metadata": {
    "scrolled": true
   },
   "outputs": [],
   "source": [
    "#summary stats of our poverty_under18_percent and hh_income, grouped by county\n",
    "development_map.describe().T"
   ]
  },
  {
   "cell_type": "markdown",
   "metadata": {},
   "source": [
    "Household income as a boxplot and we see there are some outliers on the higher household income side. The outliers and the long right whisker suggests that there is income inquality between the poorest and richest counties. Mean is greater than mode."
   ]
  },
  {
   "cell_type": "code",
   "execution_count": null,
   "metadata": {
    "scrolled": true
   },
   "outputs": [],
   "source": [
    "save = sns.boxplot(development_map.hh_income);\n",
    "figure = save.get_figure()\n",
    "filename = '../Data/hhincome_box_whisker.png'\n",
    "figure.savefig(filename, dpi=100)"
   ]
  },
  {
   "cell_type": "markdown",
   "metadata": {},
   "source": [
    "### Distribution of frequency of various household incomes occuring"
   ]
  },
  {
   "cell_type": "code",
   "execution_count": null,
   "metadata": {},
   "outputs": [],
   "source": [
    "# Seaborn histplot \n",
    "save = sns.histplot(development_map['hh_income']);\n",
    "\n",
    "figure = save.get_figure()\n",
    "filename = '../Data/hhincome_hist.png'\n",
    "figure.savefig(filename, dpi=100)"
   ]
  },
  {
   "cell_type": "code",
   "execution_count": null,
   "metadata": {},
   "outputs": [],
   "source": [
    "#sort values so worst on top\n",
    "development_map = development_map.sort_values(['hh_income'], ascending = True) #sort values based on 'prct_test_benchmark'"
   ]
  },
  {
   "cell_type": "markdown",
   "metadata": {},
   "source": [
    "### The counties with the lowest household income have overlap with the counties with worst education outcomes "
   ]
  },
  {
   "cell_type": "code",
   "execution_count": null,
   "metadata": {},
   "outputs": [],
   "source": [
    "development_map_worst = development_map.head(10)\n",
    "# Percentage of 11th grade students with below benchmark scores for the CAASSP\n",
    "sns.set(style=\"whitegrid\")\n",
    "# Initialize the matplotlib figure\n",
    "f, ax = plt.subplots(figsize=(6, 6))\n",
    "sns.set_color_codes(\"muted\")\n",
    "\n",
    "save = sns.barplot(x=development_map_worst['hh_income'], y=development_map_worst['county'], data=development_map_worst,\n",
    "            label=\"Total\", color=\"b\", orient = \"h\")\n",
    "ax.set(xlabel=\"Counties with lowest househould income\")\n",
    "sns.despine(left=True, bottom=True)\n",
    ";\n",
    "\n",
    "figure = save.get_figure()\n",
    "filename = '../Data/hhincome_worst_chart.png'\n",
    "figure.savefig(filename, dpi=50)\n",
    "\n",
    "plt.title(\"Counties with Lowest Household Income\")\n",
    "# Set x-axis label\n",
    "plt.ylabel('County')\n",
    "# Set y-axis label\n",
    "plt.xlabel('Median Household Income')\n"
   ]
  },
  {
   "cell_type": "code",
   "execution_count": null,
   "metadata": {},
   "outputs": [],
   "source": [
    "development_map_worst.head(10)"
   ]
  },
  {
   "cell_type": "markdown",
   "metadata": {},
   "source": [
    "### Del Norte, Trinity, Modoc, Tehama, Imperial, Siskiyou, Lake, Humbodlt, Tulare, Merced have the lowest median household incomes"
   ]
  },
  {
   "cell_type": "code",
   "execution_count": null,
   "metadata": {},
   "outputs": [],
   "source": [
    "dev_cali = pd.merge(dev_cali, cali_map, left_on=['county'], right_on=['county'], how='left')"
   ]
  },
  {
   "cell_type": "code",
   "execution_count": null,
   "metadata": {},
   "outputs": [],
   "source": [
    "save = sns.scatterplot(data=dev_cali, x=\"poverty_under18_percent\", y=\"prct_benchmark_not_met\",\n",
    "               size=\"poverty_under18_percent\",\n",
    "                sizes=(20, 200),\n",
    "                legend = None,\n",
    "                hue = \"prct_benchmark_not_met\"               \n",
    "               );\n",
    "plt.title(\"Youth Poverty Rate's Relationship to ACT/SAT Benchmark Scores\")\n",
    "# Set x-axis label\n",
    "plt.xlabel('% Poverty Rate Under 18')\n",
    "# Set y-axis label\n",
    "plt.ylabel('% Benchmark Not Met')\n",
    "\n",
    "figure = save.get_figure()\n",
    "filename = '../Data/youthpoverty_actsat_scatter.png'\n",
    "figure.savefig(filename, dpi=100)"
   ]
  },
  {
   "cell_type": "code",
   "execution_count": null,
   "metadata": {
    "scrolled": true
   },
   "outputs": [],
   "source": [
    "save = sns.scatterplot(\n",
    "    data=dev_cali, x=\"poverty_under18_percent\", y=\"percentage_standard_not_met_caassp\", \n",
    "    size=\"poverty_under18_percent\",\n",
    "    sizes=(20, 200),\n",
    "    legend = None,\n",
    "    hue = 'percentage_standard_not_met_caassp'\n",
    "\n",
    ");\n",
    "\n",
    "plt.title(\"Youth Poverty Rate's Relationship to CAASSP Benchmark Scores\")\n",
    "# Set x-axis label\n",
    "plt.xlabel('% Poverty Rate Under 18')\n",
    "# Set y-axis label\n",
    "plt.ylabel('% Benchmark Not Met')\n",
    "\n",
    "figure = save.get_figure()\n",
    "filename = '../Data/youthpoverty_caassp_scatter.png'\n",
    "figure.savefig(filename, dpi=100)"
   ]
  },
  {
   "cell_type": "code",
   "execution_count": null,
   "metadata": {},
   "outputs": [],
   "source": [
    "sns.set(style=\"whitegrid\")\n",
    "save = sns.scatterplot(data=dev_cali, x=\"hh_income\", y=\"prct_benchmark_not_met\",\n",
    "                size=\"hh_income\",\n",
    "                sizes=(20, 200),\n",
    "                legend = None,\n",
    "                hue = \"prct_benchmark_not_met\",\n",
    "                \n",
    "               \n",
    "               );\n",
    "plt.title(\"Household Income's Relationship to ACT/SAT Benchmark Scores\")\n",
    "# Set x-axis label\n",
    "plt.xlabel('$ Median Household Income')\n",
    "# Set y-axis label\n",
    "plt.ylabel('% Benchmark Not Met')\n",
    "figure = save.get_figure()\n",
    "filename = '../Data/hh_actsat_scatter.png'\n",
    "figure.savefig(filename, dpi=100)\n"
   ]
  },
  {
   "cell_type": "code",
   "execution_count": null,
   "metadata": {},
   "outputs": [],
   "source": [
    "dev_cali.head()"
   ]
  },
  {
   "cell_type": "code",
   "execution_count": null,
   "metadata": {
    "scrolled": true
   },
   "outputs": [],
   "source": [
    "import matplotlib as mpl\n",
    "save =sns.scatterplot(data=dev_cali, x=\"hh_income\", y=\"percentage_standard_not_met_caassp\",\n",
    "                size=\"hh_income\",\n",
    "                sizes=(20, 200),\n",
    "                legend = None,\n",
    "                hue = 'percentage_standard_not_met_caassp'\n",
    "               \n",
    "               );\n",
    "plt.title(\"Household Income's Relationship to CAASSP Benchmark Scores\")\n",
    "# Set x-axis label\n",
    "plt.xlabel('$ Median Household Income')\n",
    "# Set y-axis label\n",
    "plt.ylabel('% Benchmark Not Met')\n",
    "\n",
    "figure = save.get_figure()\n",
    "filename = '../Data/hh_caassp_scatter.png'\n",
    "figure.savefig(filename, dpi=100)\n"
   ]
  },
  {
   "cell_type": "markdown",
   "metadata": {},
   "source": [
    "### Del Norte, Tehama, Lake, Merced, Inyo, Yubo, Kings, Madera, Lassen, and Kern are the 10 worst performers based on CAASSP benchmark met."
   ]
  },
  {
   "cell_type": "code",
   "execution_count": null,
   "metadata": {},
   "outputs": [],
   "source": [
    "# A:\n",
    "plt.figure(figsize=(5,5))\n",
    "sns.heatmap(act_sat.corr(), annot=True);"
   ]
  },
  {
   "cell_type": "code",
   "execution_count": null,
   "metadata": {
    "scrolled": true
   },
   "outputs": [],
   "source": [
    "# A:\n",
    "plt.figure(figsize=(5,5))\n",
    "sns.heatmap(cali_map.corr(), annot=True);"
   ]
  },
  {
   "cell_type": "code",
   "execution_count": null,
   "metadata": {
    "scrolled": true
   },
   "outputs": [],
   "source": [
    "# A:\n",
    "plt.figure(figsize=(5,5))\n",
    "sns.heatmap(caassp_map.corr(), annot=True);"
   ]
  },
  {
   "cell_type": "code",
   "execution_count": null,
   "metadata": {},
   "outputs": [],
   "source": [
    "# A:\n",
    "plt.figure(figsize=(5,5))\n",
    "sns.heatmap(development_map.corr(), annot=True);"
   ]
  },
  {
   "cell_type": "markdown",
   "metadata": {},
   "source": [
    "Poverty rates for those under 18 are inversely correlated with household income."
   ]
  },
  {
   "cell_type": "code",
   "execution_count": null,
   "metadata": {},
   "outputs": [],
   "source": [
    "# A:\n",
    "plt.figure(figsize=(20,20))\n",
    "sns.heatmap(dev_cali.corr(), annot=True);"
   ]
  },
  {
   "cell_type": "markdown",
   "metadata": {},
   "source": [
    "Poverty under 18 is 54% correlated with prct_benchmark_not_met, 54% inversely correlated with percentage_standard_met_and_above, 60% correlated with percentage_standard_exceeded\n",
    "\n",
    "Household median income is 69% correlated with percentage_standard_exceeded and 49% correlated for standard_met_and_above"
   ]
  },
  {
   "cell_type": "markdown",
   "metadata": {},
   "source": [
    "## Chloropeth Maps:"
   ]
  },
  {
   "cell_type": "code",
   "execution_count": null,
   "metadata": {},
   "outputs": [],
   "source": [
    "#https://plotly.com/python/county-choropleth/\n",
    "import plotly.express as px\n",
    "import plotly.io as pio\n",
    "pio.templates\n",
    "\n",
    "fips = list(caassp_map['cali_county_fips'])\n",
    "values = list(caassp_map['prct_benchmark_not_met'])\n",
    "\n",
    "colorscale =  ['rgb(211, 242, 163)', 'rgb(108, 192, 139)', 'rgb(33, 122, 121)',\n",
    " 'rgb(16, 89, 101)',\n",
    " 'rgb(7, 64, 80)']\n",
    "cc = ['rgb(214, 249, 207)', 'rgb(186, 228, 174)', 'rgb(156, 209, 143)', 'rgb(124, 191, 115)', 'rgb(85, 174, 91)', 'rgb(37, 157, 81)', 'rgb(7, 138, 78)', 'rgb(13, 117, 71)', 'rgb(23, 95, 61)', 'rgb(25, 75, 49)', 'rgb(23, 55, 35)', 'rgb(17, 36, 20)']\n",
    "\n",
    "\n",
    "\n",
    "fig = ff.create_choropleth(\n",
    "    fips=fips, \n",
    "    values=values, \n",
    "    scope=['CA'], #, 'AZ', 'Nevada', 'Oregon'],\n",
    "    legend_title='Binned by Quartile',\n",
    "    county_outline={'color': 'rgb(255,255,255)', 'width': .5},\n",
    "    round_legend_values=True,\n",
    "    plot_bgcolor='rgb(224,224,224)', #sets background color\n",
    "    paper_bgcolor='rgb(160, 160, 160)', #cell background color\n",
    "    #state_outline={'width': 1.5},\n",
    "    title='Percentage of Students that did not reach the CASSP Test Benchmark',\n",
    "    binning_endpoints=[59, 62, 66, 78],\n",
    "    show_hover=True,\n",
    "    colorscale=cc,\n",
    "    \n",
    ")\n",
    "fig.layout.template = None\n",
    "fig.show()"
   ]
  },
  {
   "cell_type": "code",
   "execution_count": null,
   "metadata": {},
   "outputs": [],
   "source": [
    "#https://plotly.com/python/county-choropleth/\n",
    "\n",
    "fips = list(cali_map['cali_county_fips'])\n",
    "values = list(cali_map['prct_benchmark_not_met'])\n",
    "\n",
    "colorscale =   ['rgb(211, 242, 163)',\n",
    " 'rgb(108, 192, 139)',\n",
    "\n",
    " 'rgb(33, 122, 121)',\n",
    " 'rgb(16, 89, 101)',\n",
    " 'rgb(7, 64, 80)']\n",
    "cc = ['rgb(214, 249, 207)', 'rgb(186, 228, 174)', 'rgb(156, 209, 143)', 'rgb(124, 191, 115)', 'rgb(85, 174, 91)', 'rgb(37, 157, 81)', 'rgb(7, 138, 78)', 'rgb(13, 117, 71)', 'rgb(23, 95, 61)', 'rgb(25, 75, 49)', 'rgb(23, 55, 35)', 'rgb(17, 36, 20)']\n",
    "\n",
    "\n",
    "fig = ff.create_choropleth(\n",
    "    fips=fips, \n",
    "    values=values, \n",
    "    scope=['CA'], #, 'AZ', 'Nevada', 'Oregon'],\n",
    "    legend_title='Binned by Quartile',\n",
    "    county_outline={'color': 'rgb(255,255,255)', 'width': .5},\n",
    "    round_legend_values=True,\n",
    "    plot_bgcolor='rgb(224,224,224)', #sets background color\n",
    "    paper_bgcolor='rgb(160, 160, 160)', #cell background color\n",
    "    #state_outline={'width': 1},\n",
    "    title='Percentage of Students that did reach the ACT/SAT Test Benchmark',\n",
    "    binning_endpoints=[42, 52, 64, 92],\n",
    "    show_hover=True,\n",
    "    colorscale=cc,\n",
    "    \n",
    ")\n",
    "fig.layout.template = None\n",
    "fig.show()\n",
    "\n",
    "# compare with this [https://gallery.mailchimp.com/83ef85863611b99b1929821b8/files/R_315LHR.pdf]"
   ]
  },
  {
   "cell_type": "code",
   "execution_count": null,
   "metadata": {},
   "outputs": [],
   "source": [
    "development_map.columns"
   ]
  },
  {
   "cell_type": "code",
   "execution_count": null,
   "metadata": {},
   "outputs": [],
   "source": [
    "print(px.colors.sequential.algae_r)"
   ]
  },
  {
   "cell_type": "code",
   "execution_count": null,
   "metadata": {},
   "outputs": [],
   "source": [
    "#https://plotly.com/python/county-choropleth/\n",
    "\n",
    "fips = list(development_map['cali_county_fips'])\n",
    "values = list(development_map['hh_income'])\n",
    "\n",
    "colorscale =   ['rgb(7, 64, 80)', 'rgb(16, 89, 101)','rgb(33, 122, 121)','rgb(108, 192, 139)','rgb(211, 242, 163)',\n",
    " \n",
    " \n",
    " \n",
    " ]\n",
    "cc = ['rgb(37, 157, 81)', 'rgb(85, 174, 91)', 'rgb(124, 191, 115)', 'rgb(156, 209, 143)', 'rgb(186, 228, 174)', 'rgb(214, 249, 207)']\n",
    "fig = ff.create_choropleth(\n",
    "    fips=fips, \n",
    "    values=values, \n",
    "    scope=['CA'], #, 'AZ', 'Nevada', 'Oregon'],\n",
    "    legend_title='Binned by Quartile',\n",
    "    county_outline={'color': 'rgb(255,255,255)', 'width': .5},\n",
    "    round_legend_values=True,\n",
    "    plot_bgcolor='rgb(224,224,224)', #sets background color\n",
    "    paper_bgcolor='rgb(160, 160, 160)', #cell background color\n",
    "    #state_outline={'width': 1},\n",
    "    title='Median Household income by County',\n",
    "    binning_endpoints=[39996.00, 50453, 58776, 75931, 118468],\n",
    "    show_hover=True,\n",
    "    colorscale=cc,\n",
    "    \n",
    ")\n",
    "fig.layout.template = None\n",
    "fig.show()"
   ]
  },
  {
   "cell_type": "code",
   "execution_count": null,
   "metadata": {},
   "outputs": [],
   "source": [
    "#https://plotly.com/python/county-choropleth/\n",
    "\n",
    "fips = list(development_map['cali_county_fips'])\n",
    "values = list(development_map['poverty_under18_percent'])\n",
    "\n",
    "colorscale =   ['rgb(7, 64, 80)', 'rgb(16, 89, 101)','rgb(33, 122, 121)','rgb(108, 192, 139)','rgb(211, 242, 163)',\n",
    " \n",
    " \n",
    " \n",
    " ]\n",
    "cc = ['rgb(214, 249, 207)', 'rgb(186, 228, 174)', 'rgb(156, 209, 143)', 'rgb(124, 191, 115)', 'rgb(85, 174, 91)', 'rgb(37, 157, 81)', 'rgb(7, 138, 78)', 'rgb(13, 117, 71)', 'rgb(23, 95, 61)', 'rgb(25, 75, 49)', 'rgb(23, 55, 35)', 'rgb(17, 36, 20)']\n",
    "\n",
    "fig = ff.create_choropleth(\n",
    "    fips=fips, \n",
    "    values=values, \n",
    "    scope=['CA'], #, 'AZ', 'Nevada', 'Oregon'],\n",
    "    legend_title='Binned by Quartile',\n",
    "    county_outline={'color': 'rgb(255,255,255)', 'width': .5},\n",
    "    round_legend_values=True,\n",
    "    plot_bgcolor='rgb(224,224,224)', #sets background color\n",
    "    paper_bgcolor='rgb(160, 160, 160)', #cell background color\n",
    "    #state_outline={'width': 1},\n",
    "    title='Poverty Under 18 as a Percentage',\n",
    "    binning_endpoints=[7.0,14.0,18.2,24.5,35.3],\n",
    "    show_hover=True,\n",
    "    colorscale=cc,\n",
    "    \n",
    ")\n",
    "fig.layout.template = None\n",
    "fig.show()"
   ]
  },
  {
   "cell_type": "markdown",
   "metadata": {},
   "source": [
    "## Conclusions and Recommendations"
   ]
  },
  {
   "cell_type": "markdown",
   "metadata": {},
   "source": [
    "Conclusion:\n",
    "\n",
    "There is a link between local factors and student outcomes on standardized academic assessments. When allocating state funds to school districts these local factors need to be considered. Student outcomes are a local problem and need local solutions. \n",
    "\n",
    "The distribution of sub-benchmark students differs widely based on county. Counties with the highest rates of sub-benchmark students were sub-benchmark for all examined assessment tests. This suggests that national and state academic assessment tests favor and disfavor the same bins of students. I then examined the bins of sub-benchmark students for shared local factors. This local analysis shows a strong link between median household income, poverty rates under the age of 18, and a student's result on academic assessment tests. If median household income is lower than average in a county, test results are more likely to be sub-benchmark. If rates of rates of poverty under 18 years of age are higher, test results are more likely to be sub-benchmark. \n",
    "\n",
    "\n",
    "Recommendations:\n",
    "\n",
    "1)  Allocate more funds to districts with median household income that are lower than the average household median income for California. Particularly the districts in the counties of Del Norte, Tehama, Merced, and Modoc.\n",
    "Specific recomendations to help level the playing field for lower household income/higher poverty rate areas:\n",
    "* Provide schools with nutritional free lunches. Access to healthy food can improve academic performance. [source](https://www.brookings.edu/blog/brown-center-chalkboard/2017/05/03/how-the-quality-of-school-lunch-affects-students-academic-performance/#:~:text=We%20find%20that%20in%20years,(about%204%20percentile%20points).)\n",
    "* Update computer labs for lower income areas where there may not be available computers at home.\n",
    "* Create scalable software academic assessment test tutoring solutions.\n",
    "* Look at the CAASSP instead of the ACT/SAT as a measure of student benchmark prepardness.\n",
    "\n",
    "2) Examine additional characteristics within these counties to look for more determinant of student academic outcomes. A more complete model would be helpful in removing barriers for adversely affected students. \n",
    "\n",
    "Suggestions for continued analysis include: \n",
    "\n",
    "* English Learners per capita. A non-native English speaker may have additional trouble on the English portions of academic assessment tests. If there are more English learners language tutors could a netter use of educational funds than academic tutoring software.\n",
    "\n",
    "* Crime rates per capita. High crime rates in home neighborhoods could distract students from studying. Providing healthy outlets such as additional after school programs or library study hours could be helpful. \n",
    "\n",
    "* Student Drop-out Rates.   \n",
    "\n",
    "* Farmed acres per capita (California is major agricultural producer ([source](https://www.cdfa.ca.gov/Statistics/#:~:text=Over%20a%20third%20of%20the,the%20nation's%20total%20agricultural%20value.)). Are the counties more agricultural? If so, can we design class projects around harvest schedules when students may be assisting parents with harvest)\n"
   ]
  }
 ],
 "metadata": {
  "anaconda-cloud": {},
  "kernelspec": {
   "display_name": "Python 3",
   "language": "python",
   "name": "python3"
  },
  "language_info": {
   "codemirror_mode": {
    "name": "ipython",
    "version": 3
   },
   "file_extension": ".py",
   "mimetype": "text/x-python",
   "name": "python",
   "nbconvert_exporter": "python",
   "pygments_lexer": "ipython3",
   "version": "3.8.5"
  }
 },
 "nbformat": 4,
 "nbformat_minor": 4
}
